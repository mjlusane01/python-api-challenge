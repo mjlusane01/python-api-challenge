{
 "cells": [
  {
   "cell_type": "markdown",
   "metadata": {},
   "source": [
    "# WeatherPy\n",
    "----\n",
    "\n",
    "#### Note\n",
    "* Instructions have been included for each segment. You do not have to follow them exactly, but they are included to help you think through the steps."
   ]
  },
  {
   "cell_type": "code",
   "execution_count": 1,
   "metadata": {
    "scrolled": true
   },
   "outputs": [],
   "source": [
    "# Dependencies and Setup\n",
    "import matplotlib.pyplot as plt\n",
    "import pandas as pd\n",
    "import numpy as np\n",
    "import requests\n",
    "import time\n",
    "from scipy.stats import linregress\n",
    "\n",
    "# Import API key\n",
    "from api_keys import weather_api_key\n",
    "\n",
    "# Incorporated citipy to determine city based on latitude and longitude\n",
    "from citipy import citipy\n",
    "\n",
    "# Output File (CSV)\n",
    "output_data_file = \"output_data/cities.csv\"\n",
    "\n",
    "# Range of latitudes and longitudes\n",
    "lat_range = (-90, 90)\n",
    "lng_range = (-180, 180)"
   ]
  },
  {
   "cell_type": "markdown",
   "metadata": {},
   "source": [
    "## Generate Cities List"
   ]
  },
  {
   "cell_type": "code",
   "execution_count": 2,
   "metadata": {},
   "outputs": [
    {
     "data": {
      "text/plain": [
       "601"
      ]
     },
     "execution_count": 2,
     "metadata": {},
     "output_type": "execute_result"
    }
   ],
   "source": [
    "# List for holding lat_lngs and cities\n",
    "lat_lngs = []\n",
    "cities = []\n",
    "\n",
    "# Create a set of random lat and lng combinations\n",
    "lats = np.random.uniform(lat_range[0], lat_range[1], size=1500)\n",
    "lngs = np.random.uniform(lng_range[0], lng_range[1], size=1500)\n",
    "lat_lngs = zip(lats, lngs)\n",
    "\n",
    "# Identify nearest city for each lat, lng combination\n",
    "for lat_lng in lat_lngs:\n",
    "    city = citipy.nearest_city(lat_lng[0], lat_lng[1]).city_name\n",
    "    \n",
    "    # If the city is unique, then add it to a our cities list\n",
    "    if city not in cities:\n",
    "        cities.append(city)\n",
    "\n",
    "# Print the city count to confirm sufficient count\n",
    "len(cities)"
   ]
  },
  {
   "cell_type": "markdown",
   "metadata": {},
   "source": [
    "### Perform API Calls\n",
    "* Perform a weather check on each city using a series of successive API calls.\n",
    "* Include a print log of each city as it'sbeing processed (with the city number and city name).\n"
   ]
  },
  {
   "cell_type": "code",
   "execution_count": 4,
   "metadata": {},
   "outputs": [],
   "source": [
    "API_key = weather_api_key\n",
    "url = \"http://api.openweathermap.org/data/2.5/weather?\"\n",
    "unites = \"metric\"\n",
    "query_url = f\"{url}appid={API_key}&q={city}&unites={unites}\""
   ]
  },
  {
   "cell_type": "code",
   "execution_count": 5,
   "metadata": {
    "scrolled": true
   },
   "outputs": [
    {
     "name": "stdout",
     "output_type": "stream",
     "text": [
      "Beginning Data Retrieval\n",
      "-------------------------\n",
      "Processing Record 1 of Set 1 | nemuro\n",
      "Processing Record 2 of Set 1 | tiksi\n",
      "Processing Record 3 of Set 1 | hithadhoo\n",
      "Processing Record 4 of Set 1 | bandarbeyla\n",
      "Processing Record 5 of Set 1 | ponta do sol\n",
      "Processing Record 6 of Set 1 | najran\n",
      "Processing Record 7 of Set 1 | punta arenas\n",
      "Processing Record 8 of Set 1 | port alfred\n",
      "Processing Record 9 of Set 1 | rikitea\n",
      "Processing Record 10 of Set 1 | airai\n",
      "Processing Record 11 of Set 1 | champasak\n",
      "Processing Record 12 of Set 1 | caravelas\n",
      "Processing Record 13 of Set 1 | filimonovo\n",
      "Processing Record 14 of Set 1 | anadyr\n",
      "Processing Record 15 of Set 1 | luderitz\n",
      "Processing Record 16 of Set 1 | new norfolk\n",
      "Processing Record 17 of Set 1 | college\n",
      "Processing Record 18 of Set 1 | cidreira\n",
      "Processing Record 19 of Set 1 | waingapu\n",
      "City not found.skipping...\n",
      "Processing Record 21 of Set 1 | araouane\n",
      "Processing Record 22 of Set 1 | talnakh\n",
      "Processing Record 23 of Set 1 | kemijarvi\n",
      "Processing Record 24 of Set 1 | ushuaia\n",
      "Processing Record 25 of Set 1 | kichmengskiy gorodok\n",
      "Processing Record 26 of Set 1 | cabo san lucas\n",
      "Processing Record 27 of Set 1 | saskylakh\n",
      "City not found.skipping...\n",
      "Processing Record 29 of Set 1 | ahuimanu\n",
      "Processing Record 30 of Set 1 | jamestown\n",
      "Processing Record 31 of Set 1 | avarua\n",
      "Processing Record 32 of Set 1 | walvis bay\n",
      "Processing Record 33 of Set 1 | maragogi\n",
      "Processing Record 34 of Set 1 | kahului\n",
      "Processing Record 35 of Set 1 | kapaa\n",
      "Processing Record 36 of Set 1 | port macquarie\n",
      "Processing Record 37 of Set 1 | smithers\n",
      "Processing Record 38 of Set 1 | minna\n",
      "Processing Record 39 of Set 1 | nouadhibou\n",
      "Processing Record 40 of Set 1 | yellowknife\n",
      "Processing Record 41 of Set 1 | pangkalanbuun\n",
      "Processing Record 42 of Set 1 | adrar\n",
      "Processing Record 43 of Set 1 | sorland\n",
      "Processing Record 44 of Set 1 | isangel\n",
      "Processing Record 45 of Set 1 | hermanus\n",
      "Processing Record 46 of Set 1 | bredasdorp\n",
      "Processing Record 47 of Set 1 | albany\n",
      "Processing Record 48 of Set 1 | trindade\n",
      "Processing Record 49 of Set 1 | souillac\n",
      "City not found.skipping...\n",
      "Processing Record 51 of Set 1 | selty\n",
      "Processing Record 52 of Set 1 | rio grande\n",
      "Processing Record 53 of Set 1 | tasiilaq\n",
      "Processing Record 54 of Set 1 | nikolskoye\n",
      "Processing Record 55 of Set 1 | road town\n",
      "Processing Record 56 of Set 1 | arraial do cabo\n",
      "Processing Record 57 of Set 1 | mount isa\n",
      "Processing Record 58 of Set 1 | sterlibashevo\n",
      "Processing Record 59 of Set 1 | georgetown\n",
      "Processing Record 60 of Set 1 | bolekhiv\n",
      "Processing Record 61 of Set 1 | fort nelson\n",
      "Processing Record 62 of Set 1 | nanortalik\n",
      "Processing Record 63 of Set 1 | tuatapere\n",
      "Processing Record 64 of Set 1 | marsh harbour\n",
      "City not found.skipping...\n",
      "Processing Record 66 of Set 1 | levin\n",
      "Processing Record 67 of Set 1 | vaini\n",
      "Processing Record 68 of Set 1 | acajutla\n",
      "Processing Record 69 of Set 1 | hilo\n",
      "Processing Record 70 of Set 1 | sabha\n",
      "Processing Record 71 of Set 1 | matay\n",
      "Processing Record 72 of Set 1 | upernavik\n",
      "Processing Record 73 of Set 1 | chokurdakh\n",
      "Processing Record 74 of Set 1 | carnarvon\n",
      "Processing Record 75 of Set 1 | ribeira grande\n",
      "Processing Record 76 of Set 1 | mafinga\n",
      "Processing Record 77 of Set 1 | deputatskiy\n",
      "Processing Record 78 of Set 1 | kamina\n",
      "Processing Record 79 of Set 1 | mataura\n",
      "Processing Record 80 of Set 1 | kushmurun\n",
      "Processing Record 81 of Set 1 | hirara\n",
      "Processing Record 82 of Set 1 | nortelandia\n",
      "Processing Record 83 of Set 1 | peleduy\n",
      "Processing Record 84 of Set 1 | nuuk\n",
      "Processing Record 85 of Set 1 | samfya\n",
      "Processing Record 86 of Set 1 | busselton\n",
      "Processing Record 87 of Set 1 | thompson\n",
      "Processing Record 88 of Set 1 | guerrero negro\n",
      "Processing Record 89 of Set 1 | kibakwe\n",
      "Processing Record 90 of Set 1 | salalah\n",
      "Processing Record 91 of Set 1 | puerto ayora\n",
      "Processing Record 92 of Set 1 | hasaki\n",
      "Processing Record 93 of Set 1 | hami\n",
      "Processing Record 94 of Set 1 | cacapava do sul\n",
      "Processing Record 95 of Set 1 | severo-kurilsk\n",
      "Processing Record 96 of Set 1 | bethel\n",
      "Processing Record 97 of Set 1 | tubuala\n",
      "Processing Record 98 of Set 1 | tazovskiy\n",
      "Processing Record 99 of Set 1 | zaraza\n",
      "City not found.skipping...\n",
      "City not found.skipping...\n",
      "Processing Record 102 of Set 1 | aranos\n",
      "Processing Record 103 of Set 1 | ahipara\n",
      "Processing Record 104 of Set 1 | hobart\n",
      "Processing Record 105 of Set 1 | norman wells\n",
      "Processing Record 106 of Set 1 | san jose\n",
      "Processing Record 107 of Set 1 | mahibadhoo\n",
      "Processing Record 108 of Set 1 | khandbari\n",
      "Processing Record 109 of Set 1 | moindou\n",
      "Processing Record 110 of Set 1 | tuktoyaktuk\n",
      "Processing Record 111 of Set 1 | ilulissat\n",
      "Processing Record 112 of Set 1 | hassleholm\n",
      "Processing Record 113 of Set 1 | campo maior\n",
      "Processing Record 114 of Set 1 | marawi\n",
      "Processing Record 115 of Set 1 | santiago\n",
      "Processing Record 116 of Set 1 | sagua la grande\n",
      "Processing Record 117 of Set 1 | east london\n",
      "Processing Record 118 of Set 1 | malaut\n",
      "Processing Record 119 of Set 1 | mealhada\n",
      "Processing Record 120 of Set 1 | bluff\n",
      "Processing Record 121 of Set 1 | qaanaaq\n",
      "Processing Record 122 of Set 1 | khatanga\n",
      "Processing Record 123 of Set 1 | sibu\n",
      "Processing Record 124 of Set 1 | iqaluit\n",
      "Processing Record 125 of Set 1 | nyurba\n",
      "Processing Record 126 of Set 1 | saint-philippe\n",
      "City not found.skipping...\n",
      "Processing Record 128 of Set 1 | coquimbo\n",
      "Processing Record 129 of Set 1 | vardo\n",
      "Processing Record 130 of Set 1 | kaduna\n",
      "Processing Record 131 of Set 1 | tiznit\n",
      "City not found.skipping...\n",
      "Processing Record 133 of Set 1 | castro\n",
      "Processing Record 134 of Set 1 | aguilas\n",
      "Processing Record 135 of Set 1 | monrovia\n",
      "Processing Record 136 of Set 1 | ballina\n",
      "Processing Record 137 of Set 1 | kununurra\n",
      "Processing Record 138 of Set 1 | husavik\n",
      "Processing Record 139 of Set 1 | san blas\n",
      "Processing Record 140 of Set 1 | staunton\n",
      "Processing Record 141 of Set 1 | lodwar\n",
      "Processing Record 142 of Set 1 | dingle\n",
      "City not found.skipping...\n",
      "Processing Record 144 of Set 1 | pozzallo\n",
      "Processing Record 145 of Set 1 | lata\n",
      "Processing Record 146 of Set 1 | cape town\n",
      "City not found.skipping...\n",
      "Processing Record 148 of Set 1 | chuy\n",
      "Processing Record 149 of Set 1 | gat\n",
      "Processing Record 150 of Set 1 | belaya gora\n",
      "Processing Record 151 of Set 1 | saldanha\n",
      "City not found.skipping...\n",
      "Processing Record 153 of Set 1 | otradnoye\n",
      "Processing Record 154 of Set 1 | pevek\n",
      "Processing Record 155 of Set 1 | bontang\n",
      "City not found.skipping...\n",
      "Processing Record 157 of Set 1 | altus\n",
      "Processing Record 158 of Set 1 | taltal\n",
      "Processing Record 159 of Set 1 | stornoway\n",
      "City not found.skipping...\n",
      "Processing Record 161 of Set 1 | mecca\n",
      "Processing Record 162 of Set 1 | atuona\n",
      "Processing Record 163 of Set 1 | zemetchino\n",
      "Processing Record 164 of Set 1 | freeport\n",
      "Processing Record 165 of Set 1 | reconquista\n",
      "Processing Record 166 of Set 1 | poum\n",
      "Processing Record 167 of Set 1 | carutapera\n",
      "Processing Record 168 of Set 1 | te anau\n",
      "Processing Record 169 of Set 1 | lebu\n",
      "Processing Record 170 of Set 1 | brazzaville\n",
      "Processing Record 171 of Set 1 | praia da vitoria\n",
      "Processing Record 172 of Set 1 | samana\n",
      "Processing Record 173 of Set 1 | mweka\n",
      "Processing Record 174 of Set 1 | la palma\n",
      "Processing Record 175 of Set 1 | kushima\n",
      "Processing Record 176 of Set 1 | ayan\n",
      "Processing Record 177 of Set 1 | gamba\n",
      "Processing Record 178 of Set 1 | constitucion\n",
      "Processing Record 179 of Set 1 | ashqelon\n",
      "Processing Record 180 of Set 1 | matamoros\n",
      "Processing Record 181 of Set 1 | xingtai\n",
      "Processing Record 182 of Set 1 | leeton\n",
      "Processing Record 183 of Set 1 | muravlenko\n",
      "City not found.skipping...\n",
      "Processing Record 185 of Set 1 | udachnyy\n",
      "Processing Record 186 of Set 1 | yerbogachen\n",
      "Processing Record 187 of Set 1 | providencia\n",
      "City not found.skipping...\n",
      "Processing Record 189 of Set 1 | khorinsk\n",
      "Processing Record 190 of Set 1 | macapa\n",
      "City not found.skipping...\n",
      "Processing Record 192 of Set 1 | papara\n",
      "Processing Record 193 of Set 1 | san vicente\n",
      "Processing Record 194 of Set 1 | bam\n",
      "Processing Record 195 of Set 1 | baykit\n",
      "Processing Record 196 of Set 1 | pacifica\n",
      "Processing Record 197 of Set 1 | mayo\n",
      "Processing Record 198 of Set 1 | pisco\n",
      "Processing Record 199 of Set 1 | barrow\n",
      "Processing Record 200 of Set 1 | port-cartier\n",
      "Processing Record 201 of Set 1 | cabedelo\n",
      "Processing Record 202 of Set 1 | bambous virieux\n"
     ]
    },
    {
     "name": "stdout",
     "output_type": "stream",
     "text": [
      "Processing Record 203 of Set 1 | port elizabeth\n",
      "Processing Record 204 of Set 1 | coahuayana\n",
      "City not found.skipping...\n",
      "Processing Record 206 of Set 1 | port blair\n",
      "Processing Record 207 of Set 1 | faanui\n",
      "Processing Record 208 of Set 1 | santa maria\n",
      "Processing Record 209 of Set 1 | jodoigne\n",
      "City not found.skipping...\n",
      "City not found.skipping...\n",
      "Processing Record 212 of Set 1 | palmer\n",
      "Processing Record 213 of Set 1 | yeppoon\n",
      "Processing Record 214 of Set 1 | peniche\n",
      "City not found.skipping...\n",
      "Processing Record 216 of Set 1 | kaitangata\n",
      "Processing Record 217 of Set 1 | tilichiki\n",
      "Processing Record 218 of Set 1 | puerto maldonado\n",
      "Processing Record 219 of Set 1 | kirn\n",
      "Processing Record 220 of Set 1 | karuzi\n",
      "Processing Record 221 of Set 1 | goderich\n",
      "Processing Record 222 of Set 1 | kodiak\n",
      "Processing Record 223 of Set 1 | gumdag\n",
      "Processing Record 224 of Set 1 | quang ngai\n",
      "City not found.skipping...\n",
      "Processing Record 226 of Set 1 | thinadhoo\n",
      "Processing Record 227 of Set 1 | mahebourg\n",
      "City not found.skipping...\n",
      "Processing Record 229 of Set 1 | plettenberg bay\n",
      "Processing Record 230 of Set 1 | wilmslow\n",
      "Processing Record 231 of Set 1 | cherskiy\n",
      "Processing Record 232 of Set 1 | cockburn town\n",
      "Processing Record 233 of Set 1 | cartagena del chaira\n",
      "Processing Record 234 of Set 1 | yingkou\n",
      "Processing Record 235 of Set 1 | japura\n",
      "Processing Record 236 of Set 1 | podeni\n",
      "Processing Record 237 of Set 1 | bahia blanca\n",
      "Processing Record 238 of Set 1 | tarko-sale\n",
      "Processing Record 239 of Set 1 | sulangan\n",
      "Processing Record 240 of Set 1 | honiara\n",
      "City not found.skipping...\n",
      "Processing Record 242 of Set 1 | ukiah\n",
      "Processing Record 243 of Set 1 | bandar-e lengeh\n",
      "Processing Record 244 of Set 1 | kavieng\n",
      "Processing Record 245 of Set 1 | yulara\n",
      "Processing Record 246 of Set 1 | alyangula\n",
      "City not found.skipping...\n",
      "Processing Record 248 of Set 1 | bojnurd\n",
      "Processing Record 249 of Set 1 | kholmogory\n",
      "Processing Record 250 of Set 1 | tautira\n",
      "Processing Record 251 of Set 1 | mount gambier\n",
      "Processing Record 252 of Set 1 | pavlovka\n",
      "Processing Record 253 of Set 1 | sault sainte marie\n",
      "Processing Record 254 of Set 1 | provideniya\n",
      "Processing Record 255 of Set 1 | butaritari\n",
      "Processing Record 256 of Set 1 | grand gaube\n",
      "Processing Record 257 of Set 1 | port shepstone\n",
      "Processing Record 258 of Set 1 | matadi\n",
      "Processing Record 259 of Set 1 | dikson\n",
      "Processing Record 260 of Set 1 | buala\n",
      "Processing Record 261 of Set 1 | ponta delgada\n",
      "City not found.skipping...\n",
      "Processing Record 263 of Set 1 | maniitsoq\n",
      "Processing Record 264 of Set 1 | zhangye\n",
      "Processing Record 265 of Set 1 | payakumbuh\n",
      "Processing Record 266 of Set 1 | dombarovskiy\n",
      "Processing Record 267 of Set 1 | ugoofaaru\n",
      "Processing Record 268 of Set 1 | kaiyuan\n",
      "Processing Record 269 of Set 1 | naranjal\n",
      "Processing Record 270 of Set 1 | port hardy\n",
      "Processing Record 271 of Set 1 | lagoa\n",
      "Processing Record 272 of Set 1 | yichun\n",
      "Processing Record 273 of Set 1 | victoria\n",
      "Processing Record 274 of Set 1 | severo-yeniseyskiy\n",
      "Processing Record 275 of Set 1 | kazlu ruda\n",
      "Processing Record 276 of Set 1 | port lincoln\n",
      "Processing Record 277 of Set 1 | turukhansk\n",
      "Processing Record 278 of Set 1 | asau\n",
      "Processing Record 279 of Set 1 | beloha\n",
      "Processing Record 280 of Set 1 | longyearbyen\n",
      "Processing Record 281 of Set 1 | boden\n",
      "Processing Record 282 of Set 1 | saint-imier\n",
      "Processing Record 283 of Set 1 | harwich\n",
      "Processing Record 284 of Set 1 | yar-sale\n",
      "Processing Record 285 of Set 1 | roald\n",
      "Processing Record 286 of Set 1 | cayenne\n",
      "Processing Record 287 of Set 1 | saint pete beach\n",
      "City not found.skipping...\n",
      "Processing Record 289 of Set 1 | atar\n",
      "City not found.skipping...\n",
      "Processing Record 291 of Set 1 | saint-francois\n",
      "Processing Record 292 of Set 1 | strelka\n",
      "Processing Record 293 of Set 1 | kutum\n",
      "Processing Record 294 of Set 1 | pacific grove\n",
      "Processing Record 295 of Set 1 | clyde river\n",
      "Processing Record 296 of Set 1 | leningradskiy\n",
      "Processing Record 297 of Set 1 | eskisehir\n",
      "Processing Record 298 of Set 1 | dehloran\n",
      "City not found.skipping...\n",
      "Processing Record 300 of Set 1 | swift current\n",
      "Processing Record 301 of Set 1 | daud khel\n",
      "Processing Record 302 of Set 1 | yining\n",
      "Processing Record 303 of Set 1 | coxim\n",
      "Processing Record 304 of Set 1 | narsaq\n",
      "Processing Record 305 of Set 1 | emba\n",
      "Processing Record 306 of Set 1 | manakara\n",
      "Processing Record 307 of Set 1 | mar del plata\n",
      "City not found.skipping...\n",
      "Processing Record 309 of Set 1 | mogadishu\n",
      "Processing Record 310 of Set 1 | sao filipe\n",
      "Processing Record 311 of Set 1 | saint-pierre\n",
      "Processing Record 312 of Set 1 | xining\n",
      "Processing Record 313 of Set 1 | tromso\n",
      "Processing Record 314 of Set 1 | faya\n",
      "Processing Record 315 of Set 1 | bendigo\n",
      "Processing Record 316 of Set 1 | svetlyy\n",
      "Processing Record 317 of Set 1 | rosita\n",
      "City not found.skipping...\n",
      "Processing Record 319 of Set 1 | petauke\n",
      "Processing Record 320 of Set 1 | shache\n",
      "Processing Record 321 of Set 1 | bengkulu\n",
      "Processing Record 322 of Set 1 | vostok\n",
      "Processing Record 323 of Set 1 | kruisfontein\n",
      "Processing Record 324 of Set 1 | san quintin\n",
      "Processing Record 325 of Set 1 | vung tau\n",
      "Processing Record 326 of Set 1 | esperance\n",
      "Processing Record 327 of Set 1 | yagodnoye\n",
      "Processing Record 328 of Set 1 | mont-dore\n",
      "Processing Record 329 of Set 1 | beisfjord\n",
      "Processing Record 330 of Set 1 | okaihau\n",
      "Processing Record 331 of Set 1 | pochutla\n",
      "Processing Record 332 of Set 1 | buraydah\n",
      "City not found.skipping...\n",
      "Processing Record 334 of Set 1 | oranjemund\n",
      "Processing Record 335 of Set 1 | ust-kuyga\n",
      "City not found.skipping...\n",
      "Processing Record 337 of Set 1 | erzin\n",
      "Processing Record 338 of Set 1 | mehamn\n",
      "Processing Record 339 of Set 1 | banda aceh\n",
      "Processing Record 340 of Set 1 | shakhovskaya\n",
      "Processing Record 341 of Set 1 | altay\n",
      "Processing Record 342 of Set 1 | klaksvik\n",
      "City not found.skipping...\n",
      "Processing Record 344 of Set 1 | labrea\n",
      "Processing Record 345 of Set 1 | jyvaskyla\n",
      "Processing Record 346 of Set 1 | ust-barguzin\n",
      "Processing Record 347 of Set 1 | itarema\n",
      "Processing Record 348 of Set 1 | kalmunai\n",
      "Processing Record 349 of Set 1 | indianola\n",
      "Processing Record 350 of Set 1 | nieves\n",
      "City not found.skipping...\n",
      "Processing Record 352 of Set 1 | vila franca do campo\n",
      "Processing Record 353 of Set 1 | oranjestad\n",
      "Processing Record 354 of Set 1 | hamilton\n",
      "City not found.skipping...\n",
      "Processing Record 356 of Set 1 | cajamarca\n",
      "Processing Record 357 of Set 1 | paoua\n",
      "Processing Record 358 of Set 1 | huron\n",
      "Processing Record 359 of Set 1 | isla vista\n",
      "Processing Record 360 of Set 1 | vero beach\n",
      "Processing Record 361 of Set 1 | qiongshan\n",
      "Processing Record 362 of Set 1 | platanos\n",
      "Processing Record 363 of Set 1 | buchanan\n",
      "Processing Record 364 of Set 1 | hervey bay\n",
      "Processing Record 365 of Set 1 | flinders\n",
      "Processing Record 366 of Set 1 | sterling\n",
      "Processing Record 367 of Set 1 | myitkyina\n",
      "Processing Record 368 of Set 1 | tucupita\n",
      "Processing Record 369 of Set 1 | krasnogorsk\n",
      "Processing Record 370 of Set 1 | harper\n",
      "Processing Record 371 of Set 1 | lompoc\n",
      "Processing Record 372 of Set 1 | laguna\n",
      "Processing Record 373 of Set 1 | geraldton\n",
      "City not found.skipping...\n",
      "Processing Record 375 of Set 1 | mangrol\n",
      "Processing Record 376 of Set 1 | putina\n",
      "Processing Record 377 of Set 1 | boende\n",
      "Processing Record 378 of Set 1 | pemangkat\n",
      "Processing Record 379 of Set 1 | martapura\n",
      "Processing Record 380 of Set 1 | robertsport\n",
      "Processing Record 381 of Set 1 | muroto\n",
      "Processing Record 382 of Set 1 | olafsvik\n",
      "Processing Record 383 of Set 1 | darnah\n",
      "City not found.skipping...\n",
      "Processing Record 385 of Set 1 | teya\n",
      "Processing Record 386 of Set 1 | chebsara\n",
      "Processing Record 387 of Set 1 | gizo\n",
      "Processing Record 388 of Set 1 | abilene\n",
      "Processing Record 389 of Set 1 | riyadh\n",
      "Processing Record 390 of Set 1 | alofi\n",
      "Processing Record 391 of Set 1 | tura\n",
      "Processing Record 392 of Set 1 | sitka\n",
      "Processing Record 393 of Set 1 | ca mau\n",
      "Processing Record 394 of Set 1 | zhetysay\n",
      "Processing Record 395 of Set 1 | bage\n",
      "Processing Record 396 of Set 1 | matara\n",
      "Processing Record 397 of Set 1 | pombas\n",
      "Processing Record 398 of Set 1 | san patricio\n",
      "Processing Record 399 of Set 1 | quatre cocos\n",
      "Processing Record 400 of Set 1 | nauta\n",
      "Processing Record 401 of Set 1 | bumba\n",
      "Processing Record 402 of Set 1 | zachepylivka\n",
      "Processing Record 403 of Set 1 | ibra\n"
     ]
    },
    {
     "name": "stdout",
     "output_type": "stream",
     "text": [
      "Processing Record 404 of Set 1 | novikovo\n",
      "Processing Record 405 of Set 1 | darien\n",
      "Processing Record 406 of Set 1 | khandyga\n",
      "Processing Record 407 of Set 1 | zyryanka\n",
      "Processing Record 408 of Set 1 | antalaha\n",
      "Processing Record 409 of Set 1 | njombe\n",
      "Processing Record 410 of Set 1 | seoul\n",
      "Processing Record 411 of Set 1 | marienburg\n",
      "Processing Record 412 of Set 1 | praia\n",
      "Processing Record 413 of Set 1 | toora-khem\n",
      "Processing Record 414 of Set 1 | bonfim\n",
      "Processing Record 415 of Set 1 | eureka\n",
      "City not found.skipping...\n",
      "Processing Record 417 of Set 1 | mega\n",
      "City not found.skipping...\n",
      "City not found.skipping...\n",
      "City not found.skipping...\n",
      "Processing Record 421 of Set 1 | umm kaddadah\n",
      "Processing Record 422 of Set 1 | yarmouth\n",
      "Processing Record 423 of Set 1 | quesnel\n",
      "Processing Record 424 of Set 1 | lavrentiya\n",
      "Processing Record 425 of Set 1 | biltine\n",
      "City not found.skipping...\n",
      "Processing Record 427 of Set 1 | beringovskiy\n",
      "Processing Record 428 of Set 1 | portree\n",
      "Processing Record 429 of Set 1 | maldonado\n",
      "Processing Record 430 of Set 1 | slave lake\n",
      "Processing Record 431 of Set 1 | khanpur\n",
      "Processing Record 432 of Set 1 | kilimatinde\n",
      "Processing Record 433 of Set 1 | mossendjo\n",
      "Processing Record 434 of Set 1 | xiaoweizhai\n",
      "Processing Record 435 of Set 1 | ganzhou\n",
      "Processing Record 436 of Set 1 | florence\n",
      "Processing Record 437 of Set 1 | san carlos de bariloche\n",
      "Processing Record 438 of Set 1 | pozoblanco\n",
      "City not found.skipping...\n",
      "Processing Record 440 of Set 1 | redding\n",
      "Processing Record 441 of Set 1 | sattahip\n",
      "Processing Record 442 of Set 1 | eatonton\n",
      "Processing Record 443 of Set 1 | saint-denis\n",
      "Processing Record 444 of Set 1 | rio gallegos\n",
      "City not found.skipping...\n",
      "Processing Record 446 of Set 1 | limin khersonisou\n",
      "Processing Record 447 of Set 1 | northam\n",
      "Processing Record 448 of Set 1 | katsuura\n",
      "Processing Record 449 of Set 1 | bulnes\n",
      "Processing Record 450 of Set 1 | neyshabur\n",
      "Processing Record 451 of Set 1 | mahon\n",
      "Processing Record 452 of Set 1 | evensk\n",
      "Processing Record 453 of Set 1 | dillon\n",
      "Processing Record 454 of Set 1 | mayumba\n",
      "Processing Record 455 of Set 1 | williams lake\n",
      "Processing Record 456 of Set 1 | bonthe\n",
      "Processing Record 457 of Set 1 | neuquen\n",
      "Processing Record 458 of Set 1 | nelson bay\n",
      "Processing Record 459 of Set 1 | praxedis guerrero\n",
      "City not found.skipping...\n",
      "Processing Record 461 of Set 1 | batagay-alyta\n",
      "Processing Record 462 of Set 1 | ginda\n",
      "Processing Record 463 of Set 1 | elko\n",
      "Processing Record 464 of Set 1 | freetown\n",
      "Processing Record 465 of Set 1 | alto piquiri\n",
      "Processing Record 466 of Set 1 | kamaishi\n",
      "Processing Record 467 of Set 1 | krasnoarmeysk\n",
      "Processing Record 468 of Set 1 | baryshivka\n",
      "Processing Record 469 of Set 1 | sechura\n",
      "Processing Record 470 of Set 1 | hobyo\n",
      "Processing Record 471 of Set 1 | muros\n",
      "Processing Record 472 of Set 1 | hattiesburg\n",
      "Processing Record 473 of Set 1 | christchurch\n",
      "Processing Record 474 of Set 1 | marica\n",
      "Processing Record 475 of Set 1 | edinburg\n",
      "Processing Record 476 of Set 1 | patu\n",
      "Processing Record 477 of Set 1 | southbridge\n",
      "Processing Record 478 of Set 1 | ilhabela\n",
      "Processing Record 479 of Set 1 | mitsamiouli\n",
      "Processing Record 480 of Set 1 | moose factory\n",
      "Processing Record 481 of Set 1 | naze\n",
      "Processing Record 482 of Set 1 | montrose\n",
      "City not found.skipping...\n",
      "Processing Record 484 of Set 1 | ofaqim\n",
      "Processing Record 485 of Set 1 | bar harbor\n",
      "Processing Record 486 of Set 1 | sapele\n",
      "Processing Record 487 of Set 1 | broome\n",
      "City not found.skipping...\n",
      "Processing Record 489 of Set 1 | tema\n",
      "Processing Record 490 of Set 1 | shingu\n",
      "Processing Record 491 of Set 1 | san cristobal\n",
      "Processing Record 492 of Set 1 | mehran\n",
      "Processing Record 493 of Set 1 | nuoro\n",
      "Processing Record 494 of Set 1 | benguela\n",
      "City not found.skipping...\n",
      "City not found.skipping...\n",
      "Processing Record 497 of Set 1 | sao joao da barra\n",
      "Processing Record 498 of Set 1 | zhangjiakou\n",
      "Processing Record 499 of Set 1 | chunhuhub\n",
      "City not found.skipping...\n",
      "Processing Record 501 of Set 1 | bure\n",
      "Processing Record 502 of Set 1 | coihaique\n",
      "Processing Record 503 of Set 1 | fairbanks\n",
      "Processing Record 504 of Set 1 | yako\n",
      "Processing Record 505 of Set 1 | middle island\n",
      "Processing Record 506 of Set 1 | hambantota\n",
      "Processing Record 507 of Set 1 | cintalapa\n",
      "Processing Record 508 of Set 1 | garhi khairo\n",
      "Processing Record 509 of Set 1 | vanino\n",
      "Processing Record 510 of Set 1 | manggar\n",
      "Processing Record 511 of Set 1 | quepos\n",
      "Processing Record 512 of Set 1 | china\n",
      "Processing Record 513 of Set 1 | miami\n",
      "Processing Record 514 of Set 1 | rondonopolis\n",
      "Processing Record 515 of Set 1 | la ronge\n",
      "City not found.skipping...\n",
      "Processing Record 517 of Set 1 | kosum phisai\n",
      "Processing Record 518 of Set 1 | puerto quijarro\n",
      "Processing Record 519 of Set 1 | sicuani\n",
      "City not found.skipping...\n",
      "Processing Record 521 of Set 1 | bathsheba\n",
      "Processing Record 522 of Set 1 | ostrovnoy\n",
      "Processing Record 523 of Set 1 | leh\n",
      "Processing Record 524 of Set 1 | petropavlovka\n",
      "Processing Record 525 of Set 1 | cremlingen\n",
      "Processing Record 526 of Set 1 | bardiyah\n",
      "Processing Record 527 of Set 1 | acapulco\n",
      "Processing Record 528 of Set 1 | westport\n",
      "Processing Record 529 of Set 1 | luorong\n",
      "Processing Record 530 of Set 1 | aasiaat\n",
      "Processing Record 531 of Set 1 | touros\n",
      "Processing Record 532 of Set 1 | wilhelmshaven\n",
      "Processing Record 533 of Set 1 | san ignacio\n",
      "Processing Record 534 of Set 1 | kota bahru\n",
      "Processing Record 535 of Set 1 | yambio\n",
      "Processing Record 536 of Set 1 | saryozek\n",
      "Processing Record 537 of Set 1 | zhigansk\n",
      "Processing Record 538 of Set 1 | sistranda\n",
      "City not found.skipping...\n",
      "Processing Record 540 of Set 1 | bismil\n",
      "Processing Record 541 of Set 1 | berlevag\n",
      "Processing Record 542 of Set 1 | vila do maio\n",
      "Processing Record 543 of Set 1 | astana\n",
      "Processing Record 544 of Set 1 | marfino\n",
      "Processing Record 545 of Set 1 | priiskovyy\n",
      "Processing Record 546 of Set 1 | richards bay\n",
      "Processing Record 547 of Set 1 | nara\n",
      "Processing Record 548 of Set 1 | price\n",
      "Processing Record 549 of Set 1 | dawei\n",
      "Processing Record 550 of Set 1 | tuy hoa\n",
      "Processing Record 551 of Set 1 | bubaque\n",
      "Processing Record 552 of Set 1 | qui nhon\n",
      "Processing Record 553 of Set 1 | coari\n",
      "Processing Record 554 of Set 1 | berbera\n",
      "Processing Record 555 of Set 1 | tezu\n",
      "Processing Record 556 of Set 1 | fowa\n",
      "Processing Record 557 of Set 1 | matagami\n",
      "Processing Record 558 of Set 1 | jieshi\n",
      "Processing Record 559 of Set 1 | nadym\n",
      "Processing Record 560 of Set 1 | havre\n",
      "Processing Record 561 of Set 1 | kangaba\n",
      "Processing Record 562 of Set 1 | gondanglegi\n",
      "Processing Record 563 of Set 1 | tanggu\n",
      "Processing Record 564 of Set 1 | fuerte olimpo\n",
      "Processing Record 565 of Set 1 | lorengau\n",
      "Processing Record 566 of Set 1 | arlit\n",
      "Processing Record 567 of Set 1 | xam nua\n",
      "Processing Record 568 of Set 1 | chilliwack\n",
      "Processing Record 569 of Set 1 | nantucket\n",
      "Processing Record 570 of Set 1 | kupang\n",
      "Processing Record 571 of Set 1 | aksarka\n",
      "City not found.skipping...\n",
      "Processing Record 573 of Set 1 | soyo\n",
      "Processing Record 574 of Set 1 | sarab\n",
      "Processing Record 575 of Set 1 | farafangana\n",
      "Processing Record 576 of Set 1 | springhill\n",
      "Processing Record 577 of Set 1 | severnoye\n",
      "Processing Record 578 of Set 1 | sars\n",
      "Processing Record 579 of Set 1 | uyemskiy\n",
      "Processing Record 580 of Set 1 | baykalsk\n",
      "Processing Record 581 of Set 1 | tiarei\n",
      "Processing Record 582 of Set 1 | necochea\n",
      "Processing Record 583 of Set 1 | gualaquiza\n",
      "Processing Record 584 of Set 1 | mangaluru\n",
      "Processing Record 585 of Set 1 | los llanos de aridane\n",
      "Processing Record 586 of Set 1 | catamarca\n",
      "Processing Record 587 of Set 1 | ulladulla\n",
      "Processing Record 588 of Set 1 | chilca\n",
      "Processing Record 589 of Set 1 | bethanien\n",
      "Processing Record 590 of Set 1 | adamovka\n",
      "Processing Record 591 of Set 1 | fortuna\n",
      "Processing Record 592 of Set 1 | mayor pablo lagerenza\n",
      "Processing Record 593 of Set 1 | paamiut\n",
      "Processing Record 594 of Set 1 | kollam\n",
      "Processing Record 595 of Set 1 | boueni\n",
      "City not found.skipping...\n",
      "Processing Record 597 of Set 1 | waddan\n",
      "Processing Record 598 of Set 1 | comodoro rivadavia\n",
      "Processing Record 599 of Set 1 | tacuati\n",
      "Processing Record 600 of Set 1 | batemans bay\n",
      "Processing Record 601 of Set 1 | juneau\n"
     ]
    }
   ],
   "source": [
    "file = open(\"test.csv\", \"w\")\n",
    "print(\"Beginning Data Retrieval\")\n",
    "print(\"-------------------------\")\n",
    "for i in range(len(cities)):\n",
    "    try:\n",
    "        temp_city = cities[i]\n",
    "        query_url = f\"{url}appid={API_key}&q={temp_city}&unites={unites}\"\n",
    "        response = requests.get(query_url).json()\n",
    "        #print(json.dumps(response, indent= 4))\n",
    "        if response[\"name\"] == \"\":\n",
    "            raise Exception()\n",
    "            \n",
    "        file.write(f'{response[\"name\"]},')\n",
    "        file.write(f'{response[\"coord\"][\"lat\"]},')\n",
    "        file.write(f'{response[\"coord\"][\"lon\"]},')\n",
    "        file.write(f'{response[\"main\"][\"temp_max\"]},')\n",
    "        file.write(f'{response[\"main\"][\"humidity\"]},')\n",
    "        file.write(f'{response[\"clouds\"][\"all\"]},')\n",
    "        file.write(f'{response[\"wind\"][\"speed\"]}')\n",
    "        file.write(\"\\n\")\n",
    "        print(\"Processing Record\", i+1, \"of Set 1 |\", temp_city)\n",
    "    except:\n",
    "        print(\"City not found.skipping...\")"
   ]
  },
  {
   "cell_type": "markdown",
   "metadata": {},
   "source": [
    "### Convert Raw Data to DataFrame\n",
    "* Export the city data into a .csv.\n",
    "* Display the DataFrame"
   ]
  },
  {
   "cell_type": "code",
   "execution_count": 6,
   "metadata": {},
   "outputs": [],
   "source": [
    "df = pd.read_csv(\"cities.csv\")"
   ]
  },
  {
   "cell_type": "code",
   "execution_count": 7,
   "metadata": {},
   "outputs": [
    {
     "data": {
      "text/html": [
       "<div>\n",
       "<style scoped>\n",
       "    .dataframe tbody tr th:only-of-type {\n",
       "        vertical-align: middle;\n",
       "    }\n",
       "\n",
       "    .dataframe tbody tr th {\n",
       "        vertical-align: top;\n",
       "    }\n",
       "\n",
       "    .dataframe thead th {\n",
       "        text-align: right;\n",
       "    }\n",
       "</style>\n",
       "<table border=\"1\" class=\"dataframe\">\n",
       "  <thead>\n",
       "    <tr style=\"text-align: right;\">\n",
       "      <th></th>\n",
       "      <th>City_ID</th>\n",
       "      <th>City</th>\n",
       "      <th>Cloudiness</th>\n",
       "      <th>Country</th>\n",
       "      <th>Date</th>\n",
       "      <th>Humidity</th>\n",
       "      <th>Lat</th>\n",
       "      <th>Lng</th>\n",
       "      <th>Max Temp</th>\n",
       "      <th>Wind Speed</th>\n",
       "    </tr>\n",
       "  </thead>\n",
       "  <tbody>\n",
       "    <tr>\n",
       "      <th>0</th>\n",
       "      <td>0</td>\n",
       "      <td>ostrovnoy</td>\n",
       "      <td>2</td>\n",
       "      <td>RU</td>\n",
       "      <td>1558378754</td>\n",
       "      <td>72</td>\n",
       "      <td>68.05</td>\n",
       "      <td>39.51</td>\n",
       "      <td>37.50</td>\n",
       "      <td>7.16</td>\n",
       "    </tr>\n",
       "    <tr>\n",
       "      <th>1</th>\n",
       "      <td>1</td>\n",
       "      <td>mahebourg</td>\n",
       "      <td>75</td>\n",
       "      <td>MU</td>\n",
       "      <td>1558378503</td>\n",
       "      <td>74</td>\n",
       "      <td>-20.41</td>\n",
       "      <td>57.70</td>\n",
       "      <td>78.80</td>\n",
       "      <td>11.41</td>\n",
       "    </tr>\n",
       "    <tr>\n",
       "      <th>2</th>\n",
       "      <td>2</td>\n",
       "      <td>qaanaaq</td>\n",
       "      <td>25</td>\n",
       "      <td>GL</td>\n",
       "      <td>1558378755</td>\n",
       "      <td>73</td>\n",
       "      <td>77.48</td>\n",
       "      <td>-69.36</td>\n",
       "      <td>22.20</td>\n",
       "      <td>2.37</td>\n",
       "    </tr>\n",
       "    <tr>\n",
       "      <th>3</th>\n",
       "      <td>3</td>\n",
       "      <td>zhuhai</td>\n",
       "      <td>0</td>\n",
       "      <td>CN</td>\n",
       "      <td>1558378755</td>\n",
       "      <td>39</td>\n",
       "      <td>40.71</td>\n",
       "      <td>112.04</td>\n",
       "      <td>44.60</td>\n",
       "      <td>4.47</td>\n",
       "    </tr>\n",
       "    <tr>\n",
       "      <th>4</th>\n",
       "      <td>4</td>\n",
       "      <td>cape town</td>\n",
       "      <td>20</td>\n",
       "      <td>ZA</td>\n",
       "      <td>1558378755</td>\n",
       "      <td>76</td>\n",
       "      <td>-33.93</td>\n",
       "      <td>18.42</td>\n",
       "      <td>55.99</td>\n",
       "      <td>8.05</td>\n",
       "    </tr>\n",
       "  </tbody>\n",
       "</table>\n",
       "</div>"
      ],
      "text/plain": [
       "   City_ID       City  Cloudiness Country        Date  Humidity    Lat  \\\n",
       "0        0  ostrovnoy           2      RU  1558378754        72  68.05   \n",
       "1        1  mahebourg          75      MU  1558378503        74 -20.41   \n",
       "2        2    qaanaaq          25      GL  1558378755        73  77.48   \n",
       "3        3     zhuhai           0      CN  1558378755        39  40.71   \n",
       "4        4  cape town          20      ZA  1558378755        76 -33.93   \n",
       "\n",
       "      Lng  Max Temp  Wind Speed  \n",
       "0   39.51     37.50        7.16  \n",
       "1   57.70     78.80       11.41  \n",
       "2  -69.36     22.20        2.37  \n",
       "3  112.04     44.60        4.47  \n",
       "4   18.42     55.99        8.05  "
      ]
     },
     "execution_count": 7,
     "metadata": {},
     "output_type": "execute_result"
    }
   ],
   "source": [
    "df.head()"
   ]
  },
  {
   "cell_type": "code",
   "execution_count": 15,
   "metadata": {
    "collapsed": true
   },
   "outputs": [
    {
     "data": {
      "text/html": [
       "<div>\n",
       "<style scoped>\n",
       "    .dataframe tbody tr th:only-of-type {\n",
       "        vertical-align: middle;\n",
       "    }\n",
       "\n",
       "    .dataframe tbody tr th {\n",
       "        vertical-align: top;\n",
       "    }\n",
       "\n",
       "    .dataframe thead th {\n",
       "        text-align: right;\n",
       "    }\n",
       "</style>\n",
       "<table border=\"1\" class=\"dataframe\">\n",
       "  <thead>\n",
       "    <tr style=\"text-align: right;\">\n",
       "      <th></th>\n",
       "      <th>City</th>\n",
       "      <th>Lat</th>\n",
       "      <th>Lng</th>\n",
       "      <th>Max Temp</th>\n",
       "      <th>Humidity</th>\n",
       "      <th>Cloudiness</th>\n",
       "      <th>Wind Speed</th>\n",
       "      <th>Country</th>\n",
       "      <th>Date</th>\n",
       "    </tr>\n",
       "  </thead>\n",
       "  <tbody>\n",
       "    <tr>\n",
       "      <td>0</td>\n",
       "      <td>butaritari</td>\n",
       "      <td>3.07</td>\n",
       "      <td>172.79</td>\n",
       "      <td>83.32</td>\n",
       "      <td>74</td>\n",
       "      <td>84</td>\n",
       "      <td>10.42</td>\n",
       "      <td>KI</td>\n",
       "      <td>1593605283</td>\n",
       "    </tr>\n",
       "    <tr>\n",
       "      <td>1</td>\n",
       "      <td>yerbogachen</td>\n",
       "      <td>61.28</td>\n",
       "      <td>108.01</td>\n",
       "      <td>79.52</td>\n",
       "      <td>58</td>\n",
       "      <td>20</td>\n",
       "      <td>7.70</td>\n",
       "      <td>RU</td>\n",
       "      <td>1593605121</td>\n",
       "    </tr>\n",
       "    <tr>\n",
       "      <td>2</td>\n",
       "      <td>cape town</td>\n",
       "      <td>-33.93</td>\n",
       "      <td>18.42</td>\n",
       "      <td>73.00</td>\n",
       "      <td>77</td>\n",
       "      <td>27</td>\n",
       "      <td>4.70</td>\n",
       "      <td>ZA</td>\n",
       "      <td>1593605039</td>\n",
       "    </tr>\n",
       "    <tr>\n",
       "      <td>3</td>\n",
       "      <td>touba</td>\n",
       "      <td>8.28</td>\n",
       "      <td>-7.68</td>\n",
       "      <td>79.97</td>\n",
       "      <td>75</td>\n",
       "      <td>82</td>\n",
       "      <td>3.58</td>\n",
       "      <td>CI</td>\n",
       "      <td>1593605284</td>\n",
       "    </tr>\n",
       "    <tr>\n",
       "      <td>4</td>\n",
       "      <td>jamestown</td>\n",
       "      <td>42.10</td>\n",
       "      <td>-79.24</td>\n",
       "      <td>64.00</td>\n",
       "      <td>88</td>\n",
       "      <td>1</td>\n",
       "      <td>6.93</td>\n",
       "      <td>US</td>\n",
       "      <td>1593605284</td>\n",
       "    </tr>\n",
       "  </tbody>\n",
       "</table>\n",
       "</div>"
      ],
      "text/plain": [
       "          City    Lat     Lng  Max Temp  Humidity  Cloudiness  Wind Speed  \\\n",
       "0   butaritari   3.07  172.79     83.32        74          84       10.42   \n",
       "1  yerbogachen  61.28  108.01     79.52        58          20        7.70   \n",
       "2    cape town -33.93   18.42     73.00        77          27        4.70   \n",
       "3        touba   8.28   -7.68     79.97        75          82        3.58   \n",
       "4    jamestown  42.10  -79.24     64.00        88           1        6.93   \n",
       "\n",
       "  Country        Date  \n",
       "0      KI  1593605283  \n",
       "1      RU  1593605121  \n",
       "2      ZA  1593605039  \n",
       "3      CI  1593605284  \n",
       "4      US  1593605284  "
      ]
     },
     "execution_count": 15,
     "metadata": {},
     "output_type": "execute_result"
    }
   ],
   "source": []
  },
  {
   "cell_type": "code",
   "execution_count": 19,
   "metadata": {},
   "outputs": [
    {
     "data": {
      "text/html": [
       "<div>\n",
       "<style scoped>\n",
       "    .dataframe tbody tr th:only-of-type {\n",
       "        vertical-align: middle;\n",
       "    }\n",
       "\n",
       "    .dataframe tbody tr th {\n",
       "        vertical-align: top;\n",
       "    }\n",
       "\n",
       "    .dataframe thead th {\n",
       "        text-align: right;\n",
       "    }\n",
       "</style>\n",
       "<table border=\"1\" class=\"dataframe\">\n",
       "  <thead>\n",
       "    <tr style=\"text-align: right;\">\n",
       "      <th></th>\n",
       "      <th>Cloudiness</th>\n",
       "      <th>Date</th>\n",
       "      <th>Humidity</th>\n",
       "      <th>Lat</th>\n",
       "      <th>Lng</th>\n",
       "      <th>Max Temp</th>\n",
       "      <th>Wind Speed</th>\n",
       "    </tr>\n",
       "  </thead>\n",
       "  <tbody>\n",
       "    <tr>\n",
       "      <th>count</th>\n",
       "      <td>547.000000</td>\n",
       "      <td>5.470000e+02</td>\n",
       "      <td>547.000000</td>\n",
       "      <td>547.000000</td>\n",
       "      <td>547.000000</td>\n",
       "      <td>547.000000</td>\n",
       "      <td>547.000000</td>\n",
       "    </tr>\n",
       "    <tr>\n",
       "      <th>mean</th>\n",
       "      <td>49.495430</td>\n",
       "      <td>1.558379e+09</td>\n",
       "      <td>67.265082</td>\n",
       "      <td>19.710402</td>\n",
       "      <td>20.861609</td>\n",
       "      <td>64.975119</td>\n",
       "      <td>8.657057</td>\n",
       "    </tr>\n",
       "    <tr>\n",
       "      <th>std</th>\n",
       "      <td>36.887333</td>\n",
       "      <td>7.826709e+01</td>\n",
       "      <td>21.723477</td>\n",
       "      <td>33.637627</td>\n",
       "      <td>90.285396</td>\n",
       "      <td>18.721163</td>\n",
       "      <td>5.859917</td>\n",
       "    </tr>\n",
       "    <tr>\n",
       "      <th>min</th>\n",
       "      <td>0.000000</td>\n",
       "      <td>1.558378e+09</td>\n",
       "      <td>4.000000</td>\n",
       "      <td>-54.810000</td>\n",
       "      <td>-173.230000</td>\n",
       "      <td>4.920000</td>\n",
       "      <td>0.540000</td>\n",
       "    </tr>\n",
       "    <tr>\n",
       "      <th>25%</th>\n",
       "      <td>14.000000</td>\n",
       "      <td>1.558379e+09</td>\n",
       "      <td>52.000000</td>\n",
       "      <td>-6.315000</td>\n",
       "      <td>-60.820000</td>\n",
       "      <td>53.940000</td>\n",
       "      <td>4.680000</td>\n",
       "    </tr>\n",
       "    <tr>\n",
       "      <th>50%</th>\n",
       "      <td>47.000000</td>\n",
       "      <td>1.558379e+09</td>\n",
       "      <td>71.000000</td>\n",
       "      <td>21.430000</td>\n",
       "      <td>21.550000</td>\n",
       "      <td>64.990000</td>\n",
       "      <td>7.000000</td>\n",
       "    </tr>\n",
       "    <tr>\n",
       "      <th>75%</th>\n",
       "      <td>81.000000</td>\n",
       "      <td>1.558379e+09</td>\n",
       "      <td>86.000000</td>\n",
       "      <td>47.895000</td>\n",
       "      <td>103.165000</td>\n",
       "      <td>80.600000</td>\n",
       "      <td>11.410000</td>\n",
       "    </tr>\n",
       "    <tr>\n",
       "      <th>max</th>\n",
       "      <td>100.000000</td>\n",
       "      <td>1.558379e+09</td>\n",
       "      <td>100.000000</td>\n",
       "      <td>78.220000</td>\n",
       "      <td>179.320000</td>\n",
       "      <td>104.100000</td>\n",
       "      <td>46.080000</td>\n",
       "    </tr>\n",
       "  </tbody>\n",
       "</table>\n",
       "</div>"
      ],
      "text/plain": [
       "       Cloudiness          Date    Humidity         Lat         Lng  \\\n",
       "count  547.000000  5.470000e+02  547.000000  547.000000  547.000000   \n",
       "mean    49.495430  1.558379e+09   67.265082   19.710402   20.861609   \n",
       "std     36.887333  7.826709e+01   21.723477   33.637627   90.285396   \n",
       "min      0.000000  1.558378e+09    4.000000  -54.810000 -173.230000   \n",
       "25%     14.000000  1.558379e+09   52.000000   -6.315000  -60.820000   \n",
       "50%     47.000000  1.558379e+09   71.000000   21.430000   21.550000   \n",
       "75%     81.000000  1.558379e+09   86.000000   47.895000  103.165000   \n",
       "max    100.000000  1.558379e+09  100.000000   78.220000  179.320000   \n",
       "\n",
       "         Max Temp  Wind Speed  \n",
       "count  547.000000  547.000000  \n",
       "mean    64.975119    8.657057  \n",
       "std     18.721163    5.859917  \n",
       "min      4.920000    0.540000  \n",
       "25%     53.940000    4.680000  \n",
       "50%     64.990000    7.000000  \n",
       "75%     80.600000   11.410000  \n",
       "max    104.100000   46.080000  "
      ]
     },
     "execution_count": 19,
     "metadata": {},
     "output_type": "execute_result"
    }
   ],
   "source": [
    "df.set_index(\"City_ID\", inplace = True)\n",
    "df.describe()"
   ]
  },
  {
   "cell_type": "code",
   "execution_count": 16,
   "metadata": {
    "collapsed": true
   },
   "outputs": [
    {
     "data": {
      "text/html": [
       "<div>\n",
       "<style scoped>\n",
       "    .dataframe tbody tr th:only-of-type {\n",
       "        vertical-align: middle;\n",
       "    }\n",
       "\n",
       "    .dataframe tbody tr th {\n",
       "        vertical-align: top;\n",
       "    }\n",
       "\n",
       "    .dataframe thead th {\n",
       "        text-align: right;\n",
       "    }\n",
       "</style>\n",
       "<table border=\"1\" class=\"dataframe\">\n",
       "  <thead>\n",
       "    <tr style=\"text-align: right;\">\n",
       "      <th></th>\n",
       "      <th>Lat</th>\n",
       "      <th>Lng</th>\n",
       "      <th>Max Temp</th>\n",
       "      <th>Humidity</th>\n",
       "      <th>Cloudiness</th>\n",
       "      <th>Wind Speed</th>\n",
       "      <th>Date</th>\n",
       "    </tr>\n",
       "  </thead>\n",
       "  <tbody>\n",
       "    <tr>\n",
       "      <td>count</td>\n",
       "      <td>599.000000</td>\n",
       "      <td>599.000000</td>\n",
       "      <td>599.000000</td>\n",
       "      <td>599.000000</td>\n",
       "      <td>599.000000</td>\n",
       "      <td>599.000000</td>\n",
       "      <td>5.990000e+02</td>\n",
       "    </tr>\n",
       "    <tr>\n",
       "      <td>mean</td>\n",
       "      <td>19.877028</td>\n",
       "      <td>19.568998</td>\n",
       "      <td>69.794808</td>\n",
       "      <td>69.353923</td>\n",
       "      <td>51.569282</td>\n",
       "      <td>7.979416</td>\n",
       "      <td>1.593605e+09</td>\n",
       "    </tr>\n",
       "    <tr>\n",
       "      <td>std</td>\n",
       "      <td>33.262944</td>\n",
       "      <td>91.418472</td>\n",
       "      <td>15.678452</td>\n",
       "      <td>22.704698</td>\n",
       "      <td>35.405602</td>\n",
       "      <td>5.660694</td>\n",
       "      <td>5.738815e+01</td>\n",
       "    </tr>\n",
       "    <tr>\n",
       "      <td>min</td>\n",
       "      <td>-54.800000</td>\n",
       "      <td>-179.170000</td>\n",
       "      <td>12.200000</td>\n",
       "      <td>7.000000</td>\n",
       "      <td>0.000000</td>\n",
       "      <td>0.360000</td>\n",
       "      <td>1.593605e+09</td>\n",
       "    </tr>\n",
       "    <tr>\n",
       "      <td>25%</td>\n",
       "      <td>-8.540000</td>\n",
       "      <td>-61.210000</td>\n",
       "      <td>59.000000</td>\n",
       "      <td>55.000000</td>\n",
       "      <td>20.000000</td>\n",
       "      <td>3.620000</td>\n",
       "      <td>1.593605e+09</td>\n",
       "    </tr>\n",
       "    <tr>\n",
       "      <td>50%</td>\n",
       "      <td>24.370000</td>\n",
       "      <td>24.670000</td>\n",
       "      <td>73.110000</td>\n",
       "      <td>75.000000</td>\n",
       "      <td>59.000000</td>\n",
       "      <td>6.730000</td>\n",
       "      <td>1.593605e+09</td>\n",
       "    </tr>\n",
       "    <tr>\n",
       "      <td>75%</td>\n",
       "      <td>46.585000</td>\n",
       "      <td>102.255000</td>\n",
       "      <td>80.600000</td>\n",
       "      <td>87.000000</td>\n",
       "      <td>85.000000</td>\n",
       "      <td>11.050000</td>\n",
       "      <td>1.593605e+09</td>\n",
       "    </tr>\n",
       "    <tr>\n",
       "      <td>max</td>\n",
       "      <td>78.220000</td>\n",
       "      <td>179.320000</td>\n",
       "      <td>116.600000</td>\n",
       "      <td>100.000000</td>\n",
       "      <td>100.000000</td>\n",
       "      <td>42.500000</td>\n",
       "      <td>1.593605e+09</td>\n",
       "    </tr>\n",
       "  </tbody>\n",
       "</table>\n",
       "</div>"
      ],
      "text/plain": [
       "              Lat         Lng    Max Temp    Humidity  Cloudiness  Wind Speed  \\\n",
       "count  599.000000  599.000000  599.000000  599.000000  599.000000  599.000000   \n",
       "mean    19.877028   19.568998   69.794808   69.353923   51.569282    7.979416   \n",
       "std     33.262944   91.418472   15.678452   22.704698   35.405602    5.660694   \n",
       "min    -54.800000 -179.170000   12.200000    7.000000    0.000000    0.360000   \n",
       "25%     -8.540000  -61.210000   59.000000   55.000000   20.000000    3.620000   \n",
       "50%     24.370000   24.670000   73.110000   75.000000   59.000000    6.730000   \n",
       "75%     46.585000  102.255000   80.600000   87.000000   85.000000   11.050000   \n",
       "max     78.220000  179.320000  116.600000  100.000000  100.000000   42.500000   \n",
       "\n",
       "               Date  \n",
       "count  5.990000e+02  \n",
       "mean   1.593605e+09  \n",
       "std    5.738815e+01  \n",
       "min    1.593605e+09  \n",
       "25%    1.593605e+09  \n",
       "50%    1.593605e+09  \n",
       "75%    1.593605e+09  \n",
       "max    1.593605e+09  "
      ]
     },
     "execution_count": 16,
     "metadata": {},
     "output_type": "execute_result"
    }
   ],
   "source": []
  },
  {
   "cell_type": "markdown",
   "metadata": {},
   "source": [
    "## Inspect the data and remove the cities where the humidity > 100%.\n",
    "----\n",
    "Skip this step if there are no cities that have humidity > 100%. "
   ]
  },
  {
   "cell_type": "code",
   "execution_count": 21,
   "metadata": {},
   "outputs": [
    {
     "data": {
      "text/html": [
       "<div>\n",
       "<style scoped>\n",
       "    .dataframe tbody tr th:only-of-type {\n",
       "        vertical-align: middle;\n",
       "    }\n",
       "\n",
       "    .dataframe tbody tr th {\n",
       "        vertical-align: top;\n",
       "    }\n",
       "\n",
       "    .dataframe thead th {\n",
       "        text-align: right;\n",
       "    }\n",
       "</style>\n",
       "<table border=\"1\" class=\"dataframe\">\n",
       "  <thead>\n",
       "    <tr style=\"text-align: right;\">\n",
       "      <th></th>\n",
       "      <th>Cloudiness</th>\n",
       "      <th>Date</th>\n",
       "      <th>Humidity</th>\n",
       "      <th>Lat</th>\n",
       "      <th>Lng</th>\n",
       "      <th>Max Temp</th>\n",
       "      <th>Wind Speed</th>\n",
       "    </tr>\n",
       "  </thead>\n",
       "  <tbody>\n",
       "    <tr>\n",
       "      <th>count</th>\n",
       "      <td>547.000000</td>\n",
       "      <td>5.470000e+02</td>\n",
       "      <td>547.000000</td>\n",
       "      <td>547.000000</td>\n",
       "      <td>547.000000</td>\n",
       "      <td>547.000000</td>\n",
       "      <td>547.000000</td>\n",
       "    </tr>\n",
       "    <tr>\n",
       "      <th>mean</th>\n",
       "      <td>49.495430</td>\n",
       "      <td>1.558379e+09</td>\n",
       "      <td>67.265082</td>\n",
       "      <td>19.710402</td>\n",
       "      <td>20.861609</td>\n",
       "      <td>64.975119</td>\n",
       "      <td>8.657057</td>\n",
       "    </tr>\n",
       "    <tr>\n",
       "      <th>std</th>\n",
       "      <td>36.887333</td>\n",
       "      <td>7.826709e+01</td>\n",
       "      <td>21.723477</td>\n",
       "      <td>33.637627</td>\n",
       "      <td>90.285396</td>\n",
       "      <td>18.721163</td>\n",
       "      <td>5.859917</td>\n",
       "    </tr>\n",
       "    <tr>\n",
       "      <th>min</th>\n",
       "      <td>0.000000</td>\n",
       "      <td>1.558378e+09</td>\n",
       "      <td>4.000000</td>\n",
       "      <td>-54.810000</td>\n",
       "      <td>-173.230000</td>\n",
       "      <td>4.920000</td>\n",
       "      <td>0.540000</td>\n",
       "    </tr>\n",
       "    <tr>\n",
       "      <th>25%</th>\n",
       "      <td>14.000000</td>\n",
       "      <td>1.558379e+09</td>\n",
       "      <td>52.000000</td>\n",
       "      <td>-6.315000</td>\n",
       "      <td>-60.820000</td>\n",
       "      <td>53.940000</td>\n",
       "      <td>4.680000</td>\n",
       "    </tr>\n",
       "    <tr>\n",
       "      <th>50%</th>\n",
       "      <td>47.000000</td>\n",
       "      <td>1.558379e+09</td>\n",
       "      <td>71.000000</td>\n",
       "      <td>21.430000</td>\n",
       "      <td>21.550000</td>\n",
       "      <td>64.990000</td>\n",
       "      <td>7.000000</td>\n",
       "    </tr>\n",
       "    <tr>\n",
       "      <th>75%</th>\n",
       "      <td>81.000000</td>\n",
       "      <td>1.558379e+09</td>\n",
       "      <td>86.000000</td>\n",
       "      <td>47.895000</td>\n",
       "      <td>103.165000</td>\n",
       "      <td>80.600000</td>\n",
       "      <td>11.410000</td>\n",
       "    </tr>\n",
       "    <tr>\n",
       "      <th>max</th>\n",
       "      <td>100.000000</td>\n",
       "      <td>1.558379e+09</td>\n",
       "      <td>100.000000</td>\n",
       "      <td>78.220000</td>\n",
       "      <td>179.320000</td>\n",
       "      <td>104.100000</td>\n",
       "      <td>46.080000</td>\n",
       "    </tr>\n",
       "  </tbody>\n",
       "</table>\n",
       "</div>"
      ],
      "text/plain": [
       "       Cloudiness          Date    Humidity         Lat         Lng  \\\n",
       "count  547.000000  5.470000e+02  547.000000  547.000000  547.000000   \n",
       "mean    49.495430  1.558379e+09   67.265082   19.710402   20.861609   \n",
       "std     36.887333  7.826709e+01   21.723477   33.637627   90.285396   \n",
       "min      0.000000  1.558378e+09    4.000000  -54.810000 -173.230000   \n",
       "25%     14.000000  1.558379e+09   52.000000   -6.315000  -60.820000   \n",
       "50%     47.000000  1.558379e+09   71.000000   21.430000   21.550000   \n",
       "75%     81.000000  1.558379e+09   86.000000   47.895000  103.165000   \n",
       "max    100.000000  1.558379e+09  100.000000   78.220000  179.320000   \n",
       "\n",
       "         Max Temp  Wind Speed  \n",
       "count  547.000000  547.000000  \n",
       "mean    64.975119    8.657057  \n",
       "std     18.721163    5.859917  \n",
       "min      4.920000    0.540000  \n",
       "25%     53.940000    4.680000  \n",
       "50%     64.990000    7.000000  \n",
       "75%     80.600000   11.410000  \n",
       "max    104.100000   46.080000  "
      ]
     },
     "execution_count": 21,
     "metadata": {},
     "output_type": "execute_result"
    }
   ],
   "source": [
    "df = df[df[\"Humidity\"]<=100]\n",
    "df.describe()"
   ]
  },
  {
   "cell_type": "code",
   "execution_count": 6,
   "metadata": {
    "collapsed": true
   },
   "outputs": [
    {
     "data": {
      "text/html": [
       "<div>\n",
       "<style scoped>\n",
       "    .dataframe tbody tr th:only-of-type {\n",
       "        vertical-align: middle;\n",
       "    }\n",
       "\n",
       "    .dataframe tbody tr th {\n",
       "        vertical-align: top;\n",
       "    }\n",
       "\n",
       "    .dataframe thead th {\n",
       "        text-align: right;\n",
       "    }\n",
       "</style>\n",
       "<table border=\"1\" class=\"dataframe\">\n",
       "  <thead>\n",
       "    <tr style=\"text-align: right;\">\n",
       "      <th></th>\n",
       "      <th>Lat</th>\n",
       "      <th>Lng</th>\n",
       "      <th>Max Temp</th>\n",
       "      <th>Humidity</th>\n",
       "      <th>Cloudiness</th>\n",
       "      <th>Wind Speed</th>\n",
       "      <th>Date</th>\n",
       "    </tr>\n",
       "  </thead>\n",
       "  <tbody>\n",
       "    <tr>\n",
       "      <th>count</th>\n",
       "      <td>550.000000</td>\n",
       "      <td>550.000000</td>\n",
       "      <td>550.000000</td>\n",
       "      <td>550.000000</td>\n",
       "      <td>550.000000</td>\n",
       "      <td>550.000000</td>\n",
       "      <td>5.500000e+02</td>\n",
       "    </tr>\n",
       "    <tr>\n",
       "      <th>mean</th>\n",
       "      <td>19.973545</td>\n",
       "      <td>17.124400</td>\n",
       "      <td>58.331400</td>\n",
       "      <td>67.890909</td>\n",
       "      <td>52.141818</td>\n",
       "      <td>8.544800</td>\n",
       "      <td>1.585764e+09</td>\n",
       "    </tr>\n",
       "    <tr>\n",
       "      <th>std</th>\n",
       "      <td>33.284840</td>\n",
       "      <td>91.595451</td>\n",
       "      <td>25.795297</td>\n",
       "      <td>20.864881</td>\n",
       "      <td>35.766469</td>\n",
       "      <td>6.078869</td>\n",
       "      <td>5.539674e+01</td>\n",
       "    </tr>\n",
       "    <tr>\n",
       "      <th>min</th>\n",
       "      <td>-54.800000</td>\n",
       "      <td>-179.170000</td>\n",
       "      <td>-11.340000</td>\n",
       "      <td>9.000000</td>\n",
       "      <td>0.000000</td>\n",
       "      <td>0.160000</td>\n",
       "      <td>1.585764e+09</td>\n",
       "    </tr>\n",
       "    <tr>\n",
       "      <th>25%</th>\n",
       "      <td>-8.077500</td>\n",
       "      <td>-64.627500</td>\n",
       "      <td>42.800000</td>\n",
       "      <td>55.000000</td>\n",
       "      <td>20.000000</td>\n",
       "      <td>4.525000</td>\n",
       "      <td>1.585764e+09</td>\n",
       "    </tr>\n",
       "    <tr>\n",
       "      <th>50%</th>\n",
       "      <td>23.630000</td>\n",
       "      <td>19.635000</td>\n",
       "      <td>64.940000</td>\n",
       "      <td>72.000000</td>\n",
       "      <td>57.000000</td>\n",
       "      <td>7.325000</td>\n",
       "      <td>1.585764e+09</td>\n",
       "    </tr>\n",
       "    <tr>\n",
       "      <th>75%</th>\n",
       "      <td>48.672500</td>\n",
       "      <td>97.350000</td>\n",
       "      <td>78.800000</td>\n",
       "      <td>83.000000</td>\n",
       "      <td>86.750000</td>\n",
       "      <td>11.410000</td>\n",
       "      <td>1.585764e+09</td>\n",
       "    </tr>\n",
       "    <tr>\n",
       "      <th>max</th>\n",
       "      <td>78.220000</td>\n",
       "      <td>179.320000</td>\n",
       "      <td>102.200000</td>\n",
       "      <td>100.000000</td>\n",
       "      <td>100.000000</td>\n",
       "      <td>46.080000</td>\n",
       "      <td>1.585764e+09</td>\n",
       "    </tr>\n",
       "  </tbody>\n",
       "</table>\n",
       "</div>"
      ],
      "text/plain": [
       "              Lat         Lng    Max Temp    Humidity  Cloudiness  Wind Speed  \\\n",
       "count  550.000000  550.000000  550.000000  550.000000  550.000000  550.000000   \n",
       "mean    19.973545   17.124400   58.331400   67.890909   52.141818    8.544800   \n",
       "std     33.284840   91.595451   25.795297   20.864881   35.766469    6.078869   \n",
       "min    -54.800000 -179.170000  -11.340000    9.000000    0.000000    0.160000   \n",
       "25%     -8.077500  -64.627500   42.800000   55.000000   20.000000    4.525000   \n",
       "50%     23.630000   19.635000   64.940000   72.000000   57.000000    7.325000   \n",
       "75%     48.672500   97.350000   78.800000   83.000000   86.750000   11.410000   \n",
       "max     78.220000  179.320000  102.200000  100.000000  100.000000   46.080000   \n",
       "\n",
       "               Date  \n",
       "count  5.500000e+02  \n",
       "mean   1.585764e+09  \n",
       "std    5.539674e+01  \n",
       "min    1.585764e+09  \n",
       "25%    1.585764e+09  \n",
       "50%    1.585764e+09  \n",
       "75%    1.585764e+09  \n",
       "max    1.585764e+09  "
      ]
     },
     "execution_count": 6,
     "metadata": {},
     "output_type": "execute_result"
    }
   ],
   "source": []
  },
  {
   "cell_type": "code",
   "execution_count": 22,
   "metadata": {},
   "outputs": [
    {
     "data": {
      "text/plain": [
       "Int64Index([], dtype='int64', name='City_ID')"
      ]
     },
     "execution_count": 22,
     "metadata": {},
     "output_type": "execute_result"
    }
   ],
   "source": [
    "df[df[\"Humidity\"] > 100].index"
   ]
  },
  {
   "cell_type": "code",
   "execution_count": 17,
   "metadata": {
    "collapsed": true
   },
   "outputs": [
    {
     "data": {
      "text/plain": [
       "Int64Index([], dtype='int64')"
      ]
     },
     "execution_count": 17,
     "metadata": {},
     "output_type": "execute_result"
    }
   ],
   "source": [
    "#  Get the indices of cities that have humidity over 100%.\n"
   ]
  },
  {
   "cell_type": "code",
   "execution_count": 27,
   "metadata": {},
   "outputs": [
    {
     "data": {
      "text/plain": [
       "137.0"
      ]
     },
     "metadata": {},
     "output_type": "display_data"
    },
    {
     "data": {
      "text/plain": [
       "1.0"
      ]
     },
     "metadata": {},
     "output_type": "display_data"
    }
   ],
   "source": [
    "# calculate outlier\n",
    "temp = df.describe()[\"Humidity\"]\n",
    "IQR = temp.loc[\"75%\"] - temp.loc[\"25%\"]\n",
    "lower = temp.loc[\"25%\"] - 1.5 * IQR\n",
    "upper = temp.loc[\"75%\"] + 1.5 * IQR\n",
    "display(upper)\n",
    "display(lower)"
   ]
  },
  {
   "cell_type": "code",
   "execution_count": 36,
   "metadata": {},
   "outputs": [
    {
     "data": {
      "text/html": [
       "<div>\n",
       "<style scoped>\n",
       "    .dataframe tbody tr th:only-of-type {\n",
       "        vertical-align: middle;\n",
       "    }\n",
       "\n",
       "    .dataframe tbody tr th {\n",
       "        vertical-align: top;\n",
       "    }\n",
       "\n",
       "    .dataframe thead th {\n",
       "        text-align: right;\n",
       "    }\n",
       "</style>\n",
       "<table border=\"1\" class=\"dataframe\">\n",
       "  <thead>\n",
       "    <tr style=\"text-align: right;\">\n",
       "      <th></th>\n",
       "      <th>City</th>\n",
       "      <th>Cloudiness</th>\n",
       "      <th>Country</th>\n",
       "      <th>Date</th>\n",
       "      <th>Humidity</th>\n",
       "      <th>Lat</th>\n",
       "      <th>Lng</th>\n",
       "      <th>Max Temp</th>\n",
       "      <th>Wind Speed</th>\n",
       "    </tr>\n",
       "    <tr>\n",
       "      <th>City_ID</th>\n",
       "      <th></th>\n",
       "      <th></th>\n",
       "      <th></th>\n",
       "      <th></th>\n",
       "      <th></th>\n",
       "      <th></th>\n",
       "      <th></th>\n",
       "      <th></th>\n",
       "      <th></th>\n",
       "    </tr>\n",
       "  </thead>\n",
       "  <tbody>\n",
       "    <tr>\n",
       "      <th>0</th>\n",
       "      <td>ostrovnoy</td>\n",
       "      <td>2</td>\n",
       "      <td>RU</td>\n",
       "      <td>1558378754</td>\n",
       "      <td>72</td>\n",
       "      <td>68.05</td>\n",
       "      <td>39.51</td>\n",
       "      <td>37.50</td>\n",
       "      <td>7.16</td>\n",
       "    </tr>\n",
       "    <tr>\n",
       "      <th>1</th>\n",
       "      <td>mahebourg</td>\n",
       "      <td>75</td>\n",
       "      <td>MU</td>\n",
       "      <td>1558378503</td>\n",
       "      <td>74</td>\n",
       "      <td>-20.41</td>\n",
       "      <td>57.70</td>\n",
       "      <td>78.80</td>\n",
       "      <td>11.41</td>\n",
       "    </tr>\n",
       "    <tr>\n",
       "      <th>2</th>\n",
       "      <td>qaanaaq</td>\n",
       "      <td>25</td>\n",
       "      <td>GL</td>\n",
       "      <td>1558378755</td>\n",
       "      <td>73</td>\n",
       "      <td>77.48</td>\n",
       "      <td>-69.36</td>\n",
       "      <td>22.20</td>\n",
       "      <td>2.37</td>\n",
       "    </tr>\n",
       "    <tr>\n",
       "      <th>3</th>\n",
       "      <td>zhuhai</td>\n",
       "      <td>0</td>\n",
       "      <td>CN</td>\n",
       "      <td>1558378755</td>\n",
       "      <td>39</td>\n",
       "      <td>40.71</td>\n",
       "      <td>112.04</td>\n",
       "      <td>44.60</td>\n",
       "      <td>4.47</td>\n",
       "    </tr>\n",
       "    <tr>\n",
       "      <th>4</th>\n",
       "      <td>cape town</td>\n",
       "      <td>20</td>\n",
       "      <td>ZA</td>\n",
       "      <td>1558378755</td>\n",
       "      <td>76</td>\n",
       "      <td>-33.93</td>\n",
       "      <td>18.42</td>\n",
       "      <td>55.99</td>\n",
       "      <td>8.05</td>\n",
       "    </tr>\n",
       "  </tbody>\n",
       "</table>\n",
       "</div>"
      ],
      "text/plain": [
       "              City  Cloudiness Country        Date  Humidity    Lat     Lng  \\\n",
       "City_ID                                                                       \n",
       "0        ostrovnoy           2      RU  1558378754        72  68.05   39.51   \n",
       "1        mahebourg          75      MU  1558378503        74 -20.41   57.70   \n",
       "2          qaanaaq          25      GL  1558378755        73  77.48  -69.36   \n",
       "3           zhuhai           0      CN  1558378755        39  40.71  112.04   \n",
       "4        cape town          20      ZA  1558378755        76 -33.93   18.42   \n",
       "\n",
       "         Max Temp  Wind Speed  \n",
       "City_ID                        \n",
       "0           37.50        7.16  \n",
       "1           78.80       11.41  \n",
       "2           22.20        2.37  \n",
       "3           44.60        4.47  \n",
       "4           55.99        8.05  "
      ]
     },
     "execution_count": 36,
     "metadata": {},
     "output_type": "execute_result"
    }
   ],
   "source": [
    "clean_city_data = df[(df[\"Humidity\"]<upper) & (df[\"Humidity\"]>lower)]\n",
    "clean_city_data.head()"
   ]
  },
  {
   "cell_type": "code",
   "execution_count": 19,
   "metadata": {},
   "outputs": [
    {
     "data": {
      "text/html": [
       "<div>\n",
       "<style scoped>\n",
       "    .dataframe tbody tr th:only-of-type {\n",
       "        vertical-align: middle;\n",
       "    }\n",
       "\n",
       "    .dataframe tbody tr th {\n",
       "        vertical-align: top;\n",
       "    }\n",
       "\n",
       "    .dataframe thead th {\n",
       "        text-align: right;\n",
       "    }\n",
       "</style>\n",
       "<table border=\"1\" class=\"dataframe\">\n",
       "  <thead>\n",
       "    <tr style=\"text-align: right;\">\n",
       "      <th></th>\n",
       "      <th>City</th>\n",
       "      <th>Lat</th>\n",
       "      <th>Lng</th>\n",
       "      <th>Max Temp</th>\n",
       "      <th>Humidity</th>\n",
       "      <th>Cloudiness</th>\n",
       "      <th>Wind Speed</th>\n",
       "      <th>Country</th>\n",
       "      <th>Date</th>\n",
       "    </tr>\n",
       "  </thead>\n",
       "  <tbody>\n",
       "    <tr>\n",
       "      <td>0</td>\n",
       "      <td>butaritari</td>\n",
       "      <td>3.07</td>\n",
       "      <td>172.79</td>\n",
       "      <td>83.32</td>\n",
       "      <td>74</td>\n",
       "      <td>84</td>\n",
       "      <td>10.42</td>\n",
       "      <td>KI</td>\n",
       "      <td>1593605283</td>\n",
       "    </tr>\n",
       "    <tr>\n",
       "      <td>1</td>\n",
       "      <td>yerbogachen</td>\n",
       "      <td>61.28</td>\n",
       "      <td>108.01</td>\n",
       "      <td>79.52</td>\n",
       "      <td>58</td>\n",
       "      <td>20</td>\n",
       "      <td>7.70</td>\n",
       "      <td>RU</td>\n",
       "      <td>1593605121</td>\n",
       "    </tr>\n",
       "    <tr>\n",
       "      <td>2</td>\n",
       "      <td>cape town</td>\n",
       "      <td>-33.93</td>\n",
       "      <td>18.42</td>\n",
       "      <td>73.00</td>\n",
       "      <td>77</td>\n",
       "      <td>27</td>\n",
       "      <td>4.70</td>\n",
       "      <td>ZA</td>\n",
       "      <td>1593605039</td>\n",
       "    </tr>\n",
       "    <tr>\n",
       "      <td>3</td>\n",
       "      <td>touba</td>\n",
       "      <td>8.28</td>\n",
       "      <td>-7.68</td>\n",
       "      <td>79.97</td>\n",
       "      <td>75</td>\n",
       "      <td>82</td>\n",
       "      <td>3.58</td>\n",
       "      <td>CI</td>\n",
       "      <td>1593605284</td>\n",
       "    </tr>\n",
       "    <tr>\n",
       "      <td>4</td>\n",
       "      <td>jamestown</td>\n",
       "      <td>42.10</td>\n",
       "      <td>-79.24</td>\n",
       "      <td>64.00</td>\n",
       "      <td>88</td>\n",
       "      <td>1</td>\n",
       "      <td>6.93</td>\n",
       "      <td>US</td>\n",
       "      <td>1593605284</td>\n",
       "    </tr>\n",
       "  </tbody>\n",
       "</table>\n",
       "</div>"
      ],
      "text/plain": [
       "          City    Lat     Lng  Max Temp  Humidity  Cloudiness  Wind Speed  \\\n",
       "0   butaritari   3.07  172.79     83.32        74          84       10.42   \n",
       "1  yerbogachen  61.28  108.01     79.52        58          20        7.70   \n",
       "2    cape town -33.93   18.42     73.00        77          27        4.70   \n",
       "3        touba   8.28   -7.68     79.97        75          82        3.58   \n",
       "4    jamestown  42.10  -79.24     64.00        88           1        6.93   \n",
       "\n",
       "  Country        Date  \n",
       "0      KI  1593605283  \n",
       "1      RU  1593605121  \n",
       "2      ZA  1593605039  \n",
       "3      CI  1593605284  \n",
       "4      US  1593605284  "
      ]
     },
     "execution_count": 19,
     "metadata": {},
     "output_type": "execute_result"
    }
   ],
   "source": [
    "# Make a new DataFrame equal to the city data to drop all humidity outliers by index.\n",
    "# Passing \"inplace=False\" will make a copy of the city_data DataFrame, which we call \"clean_city_data\".\n"
   ]
  },
  {
   "cell_type": "code",
   "execution_count": null,
   "metadata": {},
   "outputs": [],
   "source": [
    "\n"
   ]
  },
  {
   "cell_type": "markdown",
   "metadata": {},
   "source": [
    "## Plotting the Data\n",
    "* Use proper labeling of the plots using plot titles (including date of analysis) and axes labels.\n",
    "* Save the plotted figures as .pngs."
   ]
  },
  {
   "cell_type": "markdown",
   "metadata": {},
   "source": [
    "## Latitude vs. Temperature Plot"
   ]
  },
  {
   "cell_type": "code",
   "execution_count": 37,
   "metadata": {},
   "outputs": [
    {
     "data": {
      "text/html": [
       "<div>\n",
       "<style scoped>\n",
       "    .dataframe tbody tr th:only-of-type {\n",
       "        vertical-align: middle;\n",
       "    }\n",
       "\n",
       "    .dataframe tbody tr th {\n",
       "        vertical-align: top;\n",
       "    }\n",
       "\n",
       "    .dataframe thead th {\n",
       "        text-align: right;\n",
       "    }\n",
       "</style>\n",
       "<table border=\"1\" class=\"dataframe\">\n",
       "  <thead>\n",
       "    <tr style=\"text-align: right;\">\n",
       "      <th></th>\n",
       "      <th>City</th>\n",
       "      <th>Cloudiness</th>\n",
       "      <th>Country</th>\n",
       "      <th>Date</th>\n",
       "      <th>Humidity</th>\n",
       "      <th>Lat</th>\n",
       "      <th>Lng</th>\n",
       "      <th>Max Temp</th>\n",
       "      <th>Wind Speed</th>\n",
       "    </tr>\n",
       "    <tr>\n",
       "      <th>City_ID</th>\n",
       "      <th></th>\n",
       "      <th></th>\n",
       "      <th></th>\n",
       "      <th></th>\n",
       "      <th></th>\n",
       "      <th></th>\n",
       "      <th></th>\n",
       "      <th></th>\n",
       "      <th></th>\n",
       "    </tr>\n",
       "  </thead>\n",
       "  <tbody>\n",
       "    <tr>\n",
       "      <th>0</th>\n",
       "      <td>ostrovnoy</td>\n",
       "      <td>2</td>\n",
       "      <td>RU</td>\n",
       "      <td>1558378754</td>\n",
       "      <td>72</td>\n",
       "      <td>68.05</td>\n",
       "      <td>39.51</td>\n",
       "      <td>37.50</td>\n",
       "      <td>7.16</td>\n",
       "    </tr>\n",
       "    <tr>\n",
       "      <th>1</th>\n",
       "      <td>mahebourg</td>\n",
       "      <td>75</td>\n",
       "      <td>MU</td>\n",
       "      <td>1558378503</td>\n",
       "      <td>74</td>\n",
       "      <td>-20.41</td>\n",
       "      <td>57.70</td>\n",
       "      <td>78.80</td>\n",
       "      <td>11.41</td>\n",
       "    </tr>\n",
       "    <tr>\n",
       "      <th>2</th>\n",
       "      <td>qaanaaq</td>\n",
       "      <td>25</td>\n",
       "      <td>GL</td>\n",
       "      <td>1558378755</td>\n",
       "      <td>73</td>\n",
       "      <td>77.48</td>\n",
       "      <td>-69.36</td>\n",
       "      <td>22.20</td>\n",
       "      <td>2.37</td>\n",
       "    </tr>\n",
       "    <tr>\n",
       "      <th>3</th>\n",
       "      <td>zhuhai</td>\n",
       "      <td>0</td>\n",
       "      <td>CN</td>\n",
       "      <td>1558378755</td>\n",
       "      <td>39</td>\n",
       "      <td>40.71</td>\n",
       "      <td>112.04</td>\n",
       "      <td>44.60</td>\n",
       "      <td>4.47</td>\n",
       "    </tr>\n",
       "    <tr>\n",
       "      <th>4</th>\n",
       "      <td>cape town</td>\n",
       "      <td>20</td>\n",
       "      <td>ZA</td>\n",
       "      <td>1558378755</td>\n",
       "      <td>76</td>\n",
       "      <td>-33.93</td>\n",
       "      <td>18.42</td>\n",
       "      <td>55.99</td>\n",
       "      <td>8.05</td>\n",
       "    </tr>\n",
       "  </tbody>\n",
       "</table>\n",
       "</div>"
      ],
      "text/plain": [
       "              City  Cloudiness Country        Date  Humidity    Lat     Lng  \\\n",
       "City_ID                                                                       \n",
       "0        ostrovnoy           2      RU  1558378754        72  68.05   39.51   \n",
       "1        mahebourg          75      MU  1558378503        74 -20.41   57.70   \n",
       "2          qaanaaq          25      GL  1558378755        73  77.48  -69.36   \n",
       "3           zhuhai           0      CN  1558378755        39  40.71  112.04   \n",
       "4        cape town          20      ZA  1558378755        76 -33.93   18.42   \n",
       "\n",
       "         Max Temp  Wind Speed  \n",
       "City_ID                        \n",
       "0           37.50        7.16  \n",
       "1           78.80       11.41  \n",
       "2           22.20        2.37  \n",
       "3           44.60        4.47  \n",
       "4           55.99        8.05  "
      ]
     },
     "execution_count": 37,
     "metadata": {},
     "output_type": "execute_result"
    }
   ],
   "source": [
    "clean_city_data.head()"
   ]
  },
  {
   "cell_type": "code",
   "execution_count": 40,
   "metadata": {},
   "outputs": [
    {
     "data": {
      "image/png": "[encoded data removed]",
      "text/plain": [
       "<Figure size 432x288 with 1 Axes>"
      ]
     },
     "metadata": {
      "needs_background": "light"
     },
     "output_type": "display_data"
    }
   ],
   "source": [
    "plt.scatter(clean_city_data[\"Lat\"],clean_city_data[\"Max Temp\"])\n",
    "plt.grid()"
   ]
  },
  {
   "cell_type": "code",
   "execution_count": 10,
   "metadata": {
    "scrolled": true
   },
   "outputs": [
    {
     "data": {
      "image/png": "[encoded data removed]",
      "text/plain": [
       "<Figure size 432x288 with 1 Axes>"
      ]
     },
     "metadata": {
      "needs_background": "light"
     },
     "output_type": "display_data"
    }
   ],
   "source": []
  },
  {
   "cell_type": "markdown",
   "metadata": {},
   "source": [
    "## Latitude vs. Humidity Plot"
   ]
  },
  {
   "cell_type": "code",
   "execution_count": 41,
   "metadata": {},
   "outputs": [
    {
     "data": {
      "image/png": "[encoded data removed]",
      "text/plain": [
       "<Figure size 432x288 with 1 Axes>"
      ]
     },
     "metadata": {
      "needs_background": "light"
     },
     "output_type": "display_data"
    }
   ],
   "source": [
    "plt.scatter(clean_city_data[\"Lat\"],clean_city_data[\"Humidity\"])\n",
    "plt.grid()"
   ]
  },
  {
   "cell_type": "markdown",
   "metadata": {},
   "source": [
    "## Latitude vs. Cloudiness Plot"
   ]
  },
  {
   "cell_type": "code",
   "execution_count": 43,
   "metadata": {},
   "outputs": [
    {
     "data": {
      "image/png": "[encoded data removed]",
      "text/plain": [
       "<Figure size 432x288 with 1 Axes>"
      ]
     },
     "metadata": {
      "needs_background": "light"
     },
     "output_type": "display_data"
    }
   ],
   "source": [
    "plt.scatter(clean_city_data[\"Lat\"],clean_city_data[\"Cloudiness\"])\n",
    "plt.grid()"
   ]
  },
  {
   "cell_type": "code",
   "execution_count": 12,
   "metadata": {},
   "outputs": [
    {
     "data": {
      "image/png": "[encoded data removed]",
      "text/plain": [
       "<Figure size 432x288 with 1 Axes>"
      ]
     },
     "metadata": {
      "needs_background": "light"
     },
     "output_type": "display_data"
    }
   ],
   "source": []
  },
  {
   "cell_type": "markdown",
   "metadata": {},
   "source": [
    "## Latitude vs. Wind Speed Plot"
   ]
  },
  {
   "cell_type": "code",
   "execution_count": 44,
   "metadata": {},
   "outputs": [
    {
     "data": {
      "image/png": "[encoded data removed]",
      "text/plain": [
       "<Figure size 432x288 with 1 Axes>"
      ]
     },
     "metadata": {
      "needs_background": "light"
     },
     "output_type": "display_data"
    }
   ],
   "source": [
    "plt.scatter(clean_city_data[\"Lat\"],clean_city_data[\"Wind Speed\"])\n",
    "plt.grid()"
   ]
  },
  {
   "cell_type": "markdown",
   "metadata": {},
   "source": [
    "## Linear Regression"
   ]
  },
  {
   "cell_type": "code",
   "execution_count": 55,
   "metadata": {},
   "outputs": [],
   "source": [
    "northern = clean_city_data[clean_city_data[\"Lat\"] >= 0]\n",
    "southern = clean_city_data[clean_city_data[\"Lat\"] < 0]"
   ]
  },
  {
   "cell_type": "markdown",
   "metadata": {},
   "source": [
    "####  Northern Hemisphere - Max Temp vs. Latitude Linear Regression"
   ]
  },
  {
   "cell_type": "code",
   "execution_count": 54,
   "metadata": {},
   "outputs": [
    {
     "name": "stdout",
     "output_type": "stream",
     "text": [
      "The r_value is: -0.8151657406810829\n"
     ]
    },
    {
     "data": {
      "image/png": "[encoded data removed]",
      "text/plain": [
       "<Figure size 432x288 with 1 Axes>"
      ]
     },
     "metadata": {
      "needs_background": "light"
     },
     "output_type": "display_data"
    }
   ],
   "source": [
    "slope, intercept, r,p, se = linregress(northern[\"Lat\"], northern[\"Max Temp\"])\n",
    "x = northern[\"Lat\"]\n",
    "plt.scatter(northern[\"Lat\"], northern[\"Max Temp\"])\n",
    "plt.plot(x, intercept+slope*x, color = \"orange\")\n",
    "print(\"The r_value is:\", r)\n",
    " "
   ]
  },
  {
   "cell_type": "markdown",
   "metadata": {},
   "source": [
    "####  Southern Hemisphere - Max Temp vs. Latitude Linear Regression"
   ]
  },
  {
   "cell_type": "code",
   "execution_count": 56,
   "metadata": {},
   "outputs": [
    {
     "name": "stdout",
     "output_type": "stream",
     "text": [
      "The r_value is: 0.7668153152076321\n"
     ]
    },
    {
     "data": {
      "image/png": "[encoded data removed]",
      "text/plain": [
       "<Figure size 432x288 with 1 Axes>"
      ]
     },
     "metadata": {
      "needs_background": "light"
     },
     "output_type": "display_data"
    }
   ],
   "source": [
    "slope, intercept, r,p, se = linregress(southern[\"Lat\"], southern[\"Max Temp\"])\n",
    "x = southern[\"Lat\"]\n",
    "plt.scatter(southern[\"Lat\"],southern[\"Max Temp\"])\n",
    "plt.plot(x, intercept+slope*x, color = \"orange\")\n",
    "print(\"The r_value is:\", r)\n",
    " "
   ]
  },
  {
   "cell_type": "markdown",
   "metadata": {},
   "source": [
    "####  Northern Hemisphere - Humidity (%) vs. Latitude Linear Regression"
   ]
  },
  {
   "cell_type": "code",
   "execution_count": 57,
   "metadata": {},
   "outputs": [
    {
     "name": "stdout",
     "output_type": "stream",
     "text": [
      "The r_value is: 0.10358336015746496\n"
     ]
    },
    {
     "data": {
      "image/png": "[encoded data removed]",
      "text/plain": [
       "<Figure size 432x288 with 1 Axes>"
      ]
     },
     "metadata": {
      "needs_background": "light"
     },
     "output_type": "display_data"
    }
   ],
   "source": [
    "slope, intercept, r,p, se = linregress(northern[\"Lat\"], northern[\"Humidity\"])\n",
    "x = northern[\"Lat\"]\n",
    "plt.scatter(northern[\"Lat\"],northern[\"Humidity\"])\n",
    "plt.plot(x, intercept+slope*x, color = \"orange\")\n",
    "print(\"The r_value is:\", r)"
   ]
  },
  {
   "cell_type": "markdown",
   "metadata": {},
   "source": [
    "####  Southern Hemisphere - Humidity (%) vs. Latitude Linear Regression"
   ]
  },
  {
   "cell_type": "code",
   "execution_count": 60,
   "metadata": {},
   "outputs": [
    {
     "name": "stdout",
     "output_type": "stream",
     "text": [
      "The r_value is: 0.1139892818606221\n"
     ]
    },
    {
     "data": {
      "image/png": "[encoded data removed]",
      "text/plain": [
       "<Figure size 432x288 with 1 Axes>"
      ]
     },
     "metadata": {
      "needs_background": "light"
     },
     "output_type": "display_data"
    }
   ],
   "source": [
    "slope, intercept, r,p, se = linregress(southern[\"Lat\"], southern[\"Humidity\"])\n",
    "x = southern[\"Lat\"]\n",
    "plt.scatter(southern[\"Lat\"],southern[\"Humidity\"])\n",
    "plt.plot(x, intercept+slope*x, color = \"orange\")\n",
    "print(\"The r_value is:\", r)"
   ]
  },
  {
   "cell_type": "markdown",
   "metadata": {},
   "source": [
    "####  Northern Hemisphere - Cloudiness (%) vs. Latitude Linear Regression"
   ]
  },
  {
   "cell_type": "code",
   "execution_count": 58,
   "metadata": {},
   "outputs": [
    {
     "name": "stdout",
     "output_type": "stream",
     "text": [
      "The r_value is: -0.08733547918934018\n"
     ]
    },
    {
     "data": {
      "image/png": "[encoded data removed]",
      "text/plain": [
       "<Figure size 432x288 with 1 Axes>"
      ]
     },
     "metadata": {
      "needs_background": "light"
     },
     "output_type": "display_data"
    }
   ],
   "source": [
    "slope, intercept, r,p, se = linregress(northern[\"Lat\"], northern[\"Cloudiness\"])\n",
    "x = northern[\"Lat\"]\n",
    "plt.scatter(northern[\"Lat\"],northern[\"Cloudiness\"])\n",
    "plt.plot(x, intercept+slope*x, color = \"orange\")\n",
    "print(\"The r_value is:\", r)"
   ]
  },
  {
   "cell_type": "markdown",
   "metadata": {},
   "source": [
    "####  Southern Hemisphere - Cloudiness (%) vs. Latitude Linear Regression"
   ]
  },
  {
   "cell_type": "code",
   "execution_count": 61,
   "metadata": {},
   "outputs": [
    {
     "name": "stdout",
     "output_type": "stream",
     "text": [
      "The r_value is: 0.23009846166335704\n"
     ]
    },
    {
     "data": {
      "image/png": "[encoded data removed]",
      "text/plain": [
       "<Figure size 432x288 with 1 Axes>"
      ]
     },
     "metadata": {
      "needs_background": "light"
     },
     "output_type": "display_data"
    }
   ],
   "source": [
    "slope, intercept, r,p, se = linregress(southern[\"Lat\"], southern[\"Cloudiness\"])\n",
    "x = southern[\"Lat\"]\n",
    "plt.scatter(southern[\"Lat\"],southern[\"Cloudiness\"])\n",
    "plt.plot(x, intercept+slope*x, color = \"orange\")\n",
    "print(\"The r_value is:\", r)"
   ]
  },
  {
   "cell_type": "markdown",
   "metadata": {},
   "source": [
    "####  Northern Hemisphere - Wind Speed (mph) vs. Latitude Linear Regression"
   ]
  },
  {
   "cell_type": "code",
   "execution_count": 59,
   "metadata": {},
   "outputs": [
    {
     "name": "stdout",
     "output_type": "stream",
     "text": [
      "The r_value is: 0.10713827743884798\n"
     ]
    },
    {
     "data": {
      "image/png": "[encoded data removed]",
      "text/plain": [
       "<Figure size 432x288 with 1 Axes>"
      ]
     },
     "metadata": {
      "needs_background": "light"
     },
     "output_type": "display_data"
    }
   ],
   "source": [
    "slope, intercept, r,p, se = linregress(northern[\"Lat\"], northern[\"Wind Speed\"])\n",
    "x = northern[\"Lat\"]\n",
    "plt.scatter(northern[\"Lat\"],northern[\"Wind Speed\"])\n",
    "plt.plot(x, intercept+slope*x, color = \"orange\")\n",
    "print(\"The r_value is:\", r)"
   ]
  },
  {
   "cell_type": "markdown",
   "metadata": {},
   "source": [
    "####  Southern Hemisphere - Wind Speed (mph) vs. Latitude Linear Regression"
   ]
  },
  {
   "cell_type": "code",
   "execution_count": 62,
   "metadata": {},
   "outputs": [
    {
     "name": "stdout",
     "output_type": "stream",
     "text": [
      "The r_value is: -0.33605638539234134\n"
     ]
    },
    {
     "data": {
      "image/png": "[encoded data removed]",
      "text/plain": [
       "<Figure size 432x288 with 1 Axes>"
      ]
     },
     "metadata": {
      "needs_background": "light"
     },
     "output_type": "display_data"
    }
   ],
   "source": [
    "slope, intercept, r,p, se = linregress(southern[\"Lat\"], southern[\"Wind Speed\"])\n",
    "x = southern[\"Lat\"]\n",
    "plt.scatter(southern[\"Lat\"],southern[\"Wind Speed\"])\n",
    "plt.plot(x, intercept+slope*x, color = \"orange\")\n",
    "print(\"The r_value is:\", r)"
   ]
  },
  {
   "cell_type": "code",
   "execution_count": null,
   "metadata": {},
   "outputs": [],
   "source": []
  }
 ],
 "metadata": {
  "anaconda-cloud": {},
  "kernel_info": {
   "name": "python3"
  },
  "kernelspec": {
   "display_name": "Python 3 (ipykernel)",
   "language": "python",
   "name": "python3"
  },
  "language_info": {
   "codemirror_mode": {
    "name": "ipython",
    "version": 3
   },
   "file_extension": ".py",
   "mimetype": "text/x-python",
   "name": "python",
   "nbconvert_exporter": "python",
   "pygments_lexer": "ipython3",
   "version": "3.9.12"
  },
  "latex_envs": {
   "LaTeX_envs_menu_present": true,
   "autoclose": false,
   "autocomplete": true,
   "bibliofile": "biblio.bib",
   "cite_by": "apalike",
   "current_citInitial": 1,
   "eqLabelWithNumbers": true,
   "eqNumInitial": 1,
   "hotkeys": {
    "equation": "Ctrl-E",
    "itemize": "Ctrl-I"
   },
   "labels_anchors": false,
   "latex_user_defs": false,
   "report_style_numbering": false,
   "user_envs_cfg": false
  },
  "nteract": {
   "version": "0.12.3"
  }
 },
 "nbformat": 4,
 "nbformat_minor": 2
}
